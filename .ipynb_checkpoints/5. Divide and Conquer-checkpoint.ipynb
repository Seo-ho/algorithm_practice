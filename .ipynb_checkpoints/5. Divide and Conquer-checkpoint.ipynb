{
 "cells": [
  {
   "cell_type": "markdown",
   "metadata": {},
   "source": [
    "# Divide and Conquer(분할 정복)\n",
    "3단계\n",
    "1. Divide\n",
    "2. Conquer(부분 문제를 푼다) - 여기서 재귀가 발생함. 다시 divide부터\n",
    "3. Combine"
   ]
  },
  {
   "cell_type": "markdown",
   "metadata": {},
   "source": [
    "### 1부터 n까지의 합 실습"
   ]
  },
  {
   "cell_type": "code",
   "execution_count": 1,
   "metadata": {},
   "outputs": [],
   "source": [
    "def consecutive_sum(start, end):\n",
    "    \n",
    "    value = (end - start)\n",
    "    mid = (start+end) // 2\n",
    "    if value == 0:\n",
    "        return start\n",
    "    else:\n",
    "        return consecutive_sum(start, mid) + consecutive_sum(mid+1, end)"
   ]
  },
  {
   "cell_type": "code",
   "execution_count": 14,
   "metadata": {},
   "outputs": [
    {
     "data": {
      "text/plain": [
       "5"
      ]
     },
     "execution_count": 14,
     "metadata": {},
     "output_type": "execute_result"
    }
   ],
   "source": [
    "11//2"
   ]
  },
  {
   "cell_type": "code",
   "execution_count": 2,
   "metadata": {},
   "outputs": [
    {
     "name": "stdout",
     "output_type": "stream",
     "text": [
      "55\n",
      "5050\n",
      "32131\n",
      "75466\n"
     ]
    }
   ],
   "source": [
    "print(consecutive_sum(1, 10))\n",
    "print(consecutive_sum(1, 100))\n",
    "print(consecutive_sum(1, 253))\n",
    "print(consecutive_sum(1, 388))"
   ]
  },
  {
   "cell_type": "markdown",
   "metadata": {},
   "source": [
    "## 합병 정렬(merge sort)\n",
    "1. Divide - 리스트를 반으로 나눈다.\n",
    "2. Conquer - 왼쪽 리스트와 오른쪽 리스트를 각각 정렬한다.\n",
    "3. Combine - 정렬된 두 리스트를 하나의 정렬된 리스트로 합병한다."
   ]
  },
  {
   "cell_type": "code",
   "execution_count": 64,
   "metadata": {},
   "outputs": [],
   "source": [
    "def merge(list1, list2):\n",
    "    output = []\n",
    "    \n",
    "    len_1 = len(list1)\n",
    "    len_2 = len(list2)\n",
    "    #print(len_1, len_2)\n",
    "    i=0\n",
    "    j=0\n",
    "#     if len_1 == 0:\n",
    "#         output += list2\n",
    "#     elif len_2 == 0:\n",
    "#         output += list1\n",
    "    while i < len_1 and j < len_2:\n",
    "        #print(i)\n",
    "        if list1[i] < list2[j]:\n",
    "            output.append(list1[i])\n",
    "            i+=1\n",
    "        else:\n",
    "            output.append(list2[j])\n",
    "            j+=1\n",
    "    \n",
    "    if i == len_1:\n",
    "        output += list2[j:]\n",
    "    elif j == len_2:\n",
    "        output +=list1[i:]\n",
    "    return output"
   ]
  },
  {
   "cell_type": "code",
   "execution_count": 62,
   "metadata": {},
   "outputs": [
    {
     "name": "stdout",
     "output_type": "stream",
     "text": [
      "1 0\n",
      "[1]\n"
     ]
    }
   ],
   "source": [
    "print(merge([1],[]))"
   ]
  },
  {
   "cell_type": "code",
   "execution_count": 48,
   "metadata": {},
   "outputs": [],
   "source": [
    "list1 = [1,2,3,4]\n",
    "list2 = [5,6,7,8]\n",
    "\n",
    "output = []\n",
    "len_1 = len(list1)\n",
    "len_2 = len(list2)\n",
    "    \n",
    "i=0\n",
    "j=0"
   ]
  },
  {
   "cell_type": "code",
   "execution_count": 49,
   "metadata": {},
   "outputs": [],
   "source": [
    "while i < len_1 and j < len_2:\n",
    "    if list1[i] < list2[j]:\n",
    "        output.append(list1[i])\n",
    "        i+=1\n",
    "    else:\n",
    "        output.append(list2[j])\n",
    "        j+=1\n",
    "    \n",
    "    if i == len_1:\n",
    "        output += list2[j:]\n",
    "    elif j == len_2:\n",
    "        output +=list1[i:]"
   ]
  },
  {
   "cell_type": "code",
   "execution_count": 50,
   "metadata": {},
   "outputs": [
    {
     "data": {
      "text/plain": [
       "[1, 2, 3, 4, 5, 6, 7, 8]"
      ]
     },
     "execution_count": 50,
     "metadata": {},
     "output_type": "execute_result"
    }
   ],
   "source": [
    "output"
   ]
  },
  {
   "cell_type": "code",
   "execution_count": 65,
   "metadata": {},
   "outputs": [
    {
     "name": "stdout",
     "output_type": "stream",
     "text": [
      "[1]\n",
      "[1]\n",
      "[1, 2]\n",
      "[1, 2, 3, 4, 5, 6, 7, 8]\n",
      "[1, 2, 3, 4, 5, 6, 7, 8]\n",
      "[1, 3, 4, 6, 7, 8, 9, 10]\n"
     ]
    }
   ],
   "source": [
    "print(merge([1],[]))\n",
    "print(merge([],[1]))\n",
    "print(merge([2],[1]))\n",
    "print(merge([1, 2, 3, 4],[5, 6, 7, 8]))\n",
    "print(merge([5, 6, 7, 8],[1, 2, 3, 4]))\n",
    "print(merge([4, 7, 8, 9],[1, 3, 6, 10]))"
   ]
  },
  {
   "cell_type": "code",
   "execution_count": 66,
   "metadata": {},
   "outputs": [],
   "source": [
    "a=[1,2,3,4,5]"
   ]
  },
  {
   "cell_type": "code",
   "execution_count": 67,
   "metadata": {},
   "outputs": [
    {
     "data": {
      "text/plain": [
       "[2, 3, 4, 5]"
      ]
     },
     "execution_count": 67,
     "metadata": {},
     "output_type": "execute_result"
    }
   ],
   "source": [
    "a[1:]"
   ]
  },
  {
   "cell_type": "markdown",
   "metadata": {},
   "source": [
    "### merge sort 구현하기"
   ]
  },
  {
   "cell_type": "code",
   "execution_count": 96,
   "metadata": {},
   "outputs": [],
   "source": [
    "def merge(list1, list2):\n",
    "    output = []\n",
    "    \n",
    "    len_1 = len(list1)\n",
    "    len_2 = len(list2)\n",
    "    i=0\n",
    "    j=0\n",
    "    while i < len_1 and j < len_2:\n",
    "        if list1[i] < list2[j]:\n",
    "            output.append(list1[i])\n",
    "            i+=1\n",
    "        else:\n",
    "            output.append(list2[j])\n",
    "            j+=1\n",
    "    \n",
    "    if i == len_1:\n",
    "        output += list2[j:]\n",
    "    elif j == len_2:\n",
    "        output +=list1[i:]\n",
    "    return output"
   ]
  },
  {
   "cell_type": "code",
   "execution_count": 106,
   "metadata": {},
   "outputs": [],
   "source": [
    "# 내가 구현한거\n",
    "def merge_sort(list_1):\n",
    "    \n",
    "    if len(list_1) < 2:\n",
    "        #print(list_1)\n",
    "        return list_1\n",
    "    end_index = len(list_1) \n",
    "    start_index = 0\n",
    "    mid_index = (start_index + end_index) // 2\n",
    "    \n",
    "    if 0 < mid_index < end_index:\n",
    "        print(mid_index)\n",
    "        left = merge_sort(list_1[:mid_index])\n",
    "        right = merge_sort(list_1[mid_index:])\n",
    "        return merge(left,right)\n",
    "#     left = list_1[:mid_index]\n",
    "#     right = list_1[mid_index:]\n",
    "    \n",
    "#     return merge(merge_sort(left) , merge_sort(right))"
   ]
  },
  {
   "cell_type": "code",
   "execution_count": null,
   "metadata": {},
   "outputs": [],
   "source": [
    "def merge_sort(my_list):\n",
    "    # base case\n",
    "    if len(my_list) < 2:\n",
    "        return my_list\n",
    "\n",
    "    # my_list를 반씩 나눈다(divide)\n",
    "    left_half = my_list[:len(my_list)//2]    # 왼쪽 반\n",
    "    right_half = my_list[len(my_list)//2:]   # 오른쪽 반\n",
    "\n",
    "    # merge_sort 함수를 재귀적으로 호출하여 부분 문제 해결(conquer)하고,\n",
    "    # merge 함수로 정렬된 두 리스트를 합쳐(combine)준다\n",
    "    return merge(merge_sort(left_half), merge_sort(right_half))"
   ]
  },
  {
   "cell_type": "code",
   "execution_count": 107,
   "metadata": {},
   "outputs": [
    {
     "name": "stdout",
     "output_type": "stream",
     "text": [
      "[1, 3, 4, 7, 9, 11, 11, 13]\n"
     ]
    }
   ],
   "source": [
    "print(merge_sort([1, 3, 4, 7, 9, 11, 13, 11]))\n",
    "#print(merge_sort([28, 13, 9, 30, 1, 48, 5, 7, 15]))\n",
    "#print(merge_sort([2, 5, 6, 7, 1, 2, 4, 7, 10, 11, 4, 15, 13, 1, 6, 4]))"
   ]
  },
  {
   "cell_type": "code",
   "execution_count": 69,
   "metadata": {},
   "outputs": [],
   "source": [
    "a = [1,2,3,4,5]"
   ]
  },
  {
   "cell_type": "code",
   "execution_count": 70,
   "metadata": {},
   "outputs": [
    {
     "data": {
      "text/plain": [
       "[1, 2]"
      ]
     },
     "execution_count": 70,
     "metadata": {},
     "output_type": "execute_result"
    }
   ],
   "source": [
    "a[:2]"
   ]
  },
  {
   "cell_type": "code",
   "execution_count": 71,
   "metadata": {},
   "outputs": [
    {
     "data": {
      "text/plain": [
       "[3, 4, 5]"
      ]
     },
     "execution_count": 71,
     "metadata": {},
     "output_type": "execute_result"
    }
   ],
   "source": [
    "a[2:]"
   ]
  },
  {
   "cell_type": "code",
   "execution_count": null,
   "metadata": {},
   "outputs": [],
   "source": []
  },
  {
   "cell_type": "code",
   "execution_count": null,
   "metadata": {},
   "outputs": [],
   "source": []
  },
  {
   "cell_type": "code",
   "execution_count": null,
   "metadata": {},
   "outputs": [],
   "source": []
  }
 ],
 "metadata": {
  "kernelspec": {
   "display_name": "displayKernelName",
   "language": "python",
   "name": "tf"
  },
  "language_info": {
   "codemirror_mode": {
    "name": "ipython",
    "version": 3
   },
   "file_extension": ".py",
   "mimetype": "text/x-python",
   "name": "python",
   "nbconvert_exporter": "python",
   "pygments_lexer": "ipython3",
   "version": "3.5.6"
  }
 },
 "nbformat": 4,
 "nbformat_minor": 2
}
