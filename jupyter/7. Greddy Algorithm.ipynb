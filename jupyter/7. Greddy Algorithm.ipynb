{
 "cells": [
  {
   "cell_type": "markdown",
   "metadata": {},
   "source": [
    "# Greedy Algorithm\n",
    "- 미래를 내다보지 않고, 당장 눈 앞에 보이는 최적의 선택을 하는 방식\n",
    "- 장점: 간단하고 빠르다\n",
    "- 단점: 최적의 답이 보장되지 않는다.\n",
    "- 그나마의 대안으로 사용하거나, 최적의 답이 없을 때.\n",
    "- 최적의 답을 보장해주는 문제가 간혹 있는데 이 때 greedy algorithm으로 구현"
   ]
  },
  {
   "cell_type": "markdown",
   "metadata": {},
   "source": [
    "## 최적 부분 구조(Optimal Substructure)\n",
    "- 부분 문제들의 최적의 답을 이용해서 기존 문제의 최적의 답을 구할 수 있다는 것.\n",
    "\n",
    "## 탐욕적 선택 속성(Greedy Choice Property)\n",
    "- 각 단계에서의 탐욕스런 선택이 최종 답을 구하기 위한 최적의 선택\n",
    "\n",
    "\n",
    "- 2가지를 다 갖추고 있다면 그리디 알고리즘 사용가능."
   ]
  },
  {
   "cell_type": "markdown",
   "metadata": {},
   "source": [
    "### 최소 동전으로 돈 거슬러 주기"
   ]
  },
  {
   "cell_type": "code",
   "execution_count": 8,
   "metadata": {},
   "outputs": [],
   "source": [
    "def min_coin_count(value, coin_list):\n",
    "    # 거슬러 주기 위해 필요한 최소 동전 개수를 return\n",
    "    # 동전의 조합은 항상 500원, 100원, 50원, 10원이라고 가정\n",
    "    output = 0\n",
    "    coin_list.sort(reverse=True)\n",
    "    for i in range(len(coin_list)):\n",
    "        output += value//coin_list[i]\n",
    "        value = value%coin_list[i]\n",
    "    return output"
   ]
  },
  {
   "cell_type": "code",
   "execution_count": null,
   "metadata": {},
   "outputs": [],
   "source": [
    "def min_coin_count(value, coin_list):\n",
    "    count = 0\n",
    "    coin_list = sorted(coin_list, reverse=True)\n",
    "    \n",
    "    for coin in coin_list:\n",
    "        count += (value//coin)\n",
    "        value = value%coin\n",
    "        \n",
    "    return count"
   ]
  },
  {
   "cell_type": "code",
   "execution_count": 9,
   "metadata": {},
   "outputs": [
    {
     "name": "stdout",
     "output_type": "stream",
     "text": [
      "10\n",
      "5\n",
      "49\n",
      "70\n"
     ]
    }
   ],
   "source": [
    "# 테스트\n",
    "default_coin_list = [100, 500, 10, 50]\n",
    "print(min_coin_count(1440, default_coin_list))\n",
    "print(min_coin_count(1700, default_coin_list))\n",
    "print(min_coin_count(23520, default_coin_list))\n",
    "print(min_coin_count(32590, default_coin_list))"
   ]
  },
  {
   "cell_type": "code",
   "execution_count": 1,
   "metadata": {},
   "outputs": [
    {
     "data": {
      "text/plain": [
       "440"
      ]
     },
     "execution_count": 1,
     "metadata": {},
     "output_type": "execute_result"
    }
   ],
   "source": [
    "1440%500"
   ]
  },
  {
   "cell_type": "code",
   "execution_count": 2,
   "metadata": {},
   "outputs": [
    {
     "data": {
      "text/plain": [
       "2"
      ]
     },
     "execution_count": 2,
     "metadata": {},
     "output_type": "execute_result"
    }
   ],
   "source": [
    "1440//500"
   ]
  },
  {
   "cell_type": "code",
   "execution_count": 6,
   "metadata": {},
   "outputs": [],
   "source": [
    "default_coin_list.sort(reverse=True)"
   ]
  },
  {
   "cell_type": "code",
   "execution_count": 7,
   "metadata": {},
   "outputs": [
    {
     "data": {
      "text/plain": [
       "[500, 100, 50, 10]"
      ]
     },
     "execution_count": 7,
     "metadata": {},
     "output_type": "execute_result"
    }
   ],
   "source": [
    "default_coin_list"
   ]
  },
  {
   "cell_type": "code",
   "execution_count": 10,
   "metadata": {},
   "outputs": [],
   "source": [
    "default_coin_list = [100, 500, 10, 50]"
   ]
  },
  {
   "cell_type": "code",
   "execution_count": 11,
   "metadata": {},
   "outputs": [
    {
     "data": {
      "text/plain": [
       "[500, 100, 50, 10]"
      ]
     },
     "execution_count": 11,
     "metadata": {},
     "output_type": "execute_result"
    }
   ],
   "source": [
    "sorted(default_coin_list, reverse=True)"
   ]
  },
  {
   "cell_type": "code",
   "execution_count": 12,
   "metadata": {},
   "outputs": [
    {
     "data": {
      "text/plain": [
       "[100, 500, 10, 50]"
      ]
     },
     "execution_count": 12,
     "metadata": {},
     "output_type": "execute_result"
    }
   ],
   "source": [
    "default_coin_list"
   ]
  },
  {
   "cell_type": "code",
   "execution_count": null,
   "metadata": {},
   "outputs": [],
   "source": []
  },
  {
   "cell_type": "code",
   "execution_count": null,
   "metadata": {},
   "outputs": [],
   "source": []
  },
  {
   "cell_type": "markdown",
   "metadata": {},
   "source": [
    "### 최대 곱 구하기 실습"
   ]
  },
  {
   "cell_type": "code",
   "execution_count": 17,
   "metadata": {},
   "outputs": [],
   "source": [
    "def max_product(card_lists):\n",
    "    output = 1\n",
    "    \n",
    "    for i in card_lists:\n",
    "        output = output*max(i)\n",
    "    return output"
   ]
  },
  {
   "cell_type": "code",
   "execution_count": 18,
   "metadata": {},
   "outputs": [
    {
     "name": "stdout",
     "output_type": "stream",
     "text": [
      "10800\n"
     ]
    }
   ],
   "source": [
    "# 예시\n",
    "test_cards = [[1, 2, 3], [4, 6, 1], [8, 2, 4], [3, 2, 5], [5, 2, 3], [3, 2, 1]]\n",
    "print(max_product(test_cards))"
   ]
  },
  {
   "cell_type": "code",
   "execution_count": 13,
   "metadata": {},
   "outputs": [],
   "source": [
    "test_cards = [[1, 2, 3], [4, 6, 1], [8, 2, 4], [3, 2, 5], [5, 2, 3], [3, 2, 1]]"
   ]
  },
  {
   "cell_type": "code",
   "execution_count": 16,
   "metadata": {},
   "outputs": [
    {
     "name": "stdout",
     "output_type": "stream",
     "text": [
      "3\n",
      "6\n",
      "8\n",
      "5\n",
      "5\n",
      "3\n"
     ]
    }
   ],
   "source": [
    "for i in test_cards:\n",
    "    print(max(i))"
   ]
  },
  {
   "cell_type": "code",
   "execution_count": null,
   "metadata": {},
   "outputs": [],
   "source": []
  },
  {
   "cell_type": "code",
   "execution_count": null,
   "metadata": {},
   "outputs": [],
   "source": []
  },
  {
   "cell_type": "markdown",
   "metadata": {},
   "source": [
    "### 지각 벌금 적게 내기 분석"
   ]
  },
  {
   "cell_type": "code",
   "execution_count": 35,
   "metadata": {},
   "outputs": [],
   "source": [
    "# 내가 푼거\n",
    "def min_fee(pages_to_print):\n",
    "    \n",
    "    output = 0\n",
    "    refund = 0\n",
    "    pages_to_print.sort()\n",
    "    \n",
    "    for i in pages_to_print:\n",
    "        output += i\n",
    "        refund += output\n",
    "    return refund"
   ]
  },
  {
   "cell_type": "code",
   "execution_count": null,
   "metadata": {},
   "outputs": [],
   "source": [
    "def min_fee(pages_to_print):\n",
    "    # 인풋으로 받은 리스트를 정렬시켜 준다\n",
    "    sorted_list = sorted(pages_to_print)\n",
    "\n",
    "    # 총 벌금을 담을 변수\n",
    "    total_fee = 0\n",
    "\n",
    "    # 정렬된 리스트에서 총 벌금 계산\n",
    "    for i in range(len(sorted_list)):\n",
    "        total_fee += sorted_list[i] * (len(sorted_list) - i)\n",
    "\n",
    "    return total_fee\n"
   ]
  },
  {
   "cell_type": "code",
   "execution_count": 36,
   "metadata": {},
   "outputs": [
    {
     "name": "stdout",
     "output_type": "stream",
     "text": [
      "39\n",
      "10\n",
      "32\n",
      "188\n"
     ]
    }
   ],
   "source": [
    "# 테스트\n",
    "print(min_fee([6, 11, 4, 1]))\n",
    "print(min_fee([3, 2, 1]))\n",
    "print(min_fee([3, 1, 4, 3, 2]))\n",
    "print(min_fee([8, 4, 2, 3, 9, 23, 6, 8]))"
   ]
  },
  {
   "cell_type": "code",
   "execution_count": null,
   "metadata": {},
   "outputs": [],
   "source": []
  },
  {
   "cell_type": "code",
   "execution_count": null,
   "metadata": {},
   "outputs": [],
   "source": []
  },
  {
   "cell_type": "markdown",
   "metadata": {},
   "source": [
    "### 수강신청 실습"
   ]
  },
  {
   "cell_type": "code",
   "execution_count": 129,
   "metadata": {},
   "outputs": [],
   "source": [
    "def course_selection(course_list):\n",
    "    output = []\n",
    "    \n",
    "    course_list.sort(key = lambda element: element[1])\n",
    "    \n",
    "    #start = course_list[0][0]\n",
    "    end = course_list[0][1]\n",
    "    output.append((course_list.pop(0)))\n",
    "    #course_list.pop(0)\n",
    "    #print(course_list)\n",
    "#print(end)\n",
    "    for i in course_list:\n",
    "        #print(course_list)\n",
    "        #print(\"i:\", i)\n",
    "        #print(\"end:\", end)\n",
    "        if i[0] >= end:\n",
    "            end = i[1]\n",
    "            output.append((i))\n",
    "            #course_list.remove(i)\n",
    "    return output"
   ]
  },
  {
   "cell_type": "code",
   "execution_count": null,
   "metadata": {},
   "outputs": [],
   "source": [
    "# 답. 근데 내가 풋것도 맞아.\n",
    "def course_selection(course_list):\n",
    "    # 수업을 끝나는 순서로 정렬한다\n",
    "    sorted_list = sorted(course_list, key=lambda x: x[1])\n",
    "\n",
    "    # 가장 먼저 끝나는 수업은 무조건 듣는다\n",
    "    my_selection = [sorted_list[0]]\n",
    "\n",
    "    # 이미 선택한 수업과 안 겹치는 수업 중 가장 빨리 끝나는 수업을 고른다\n",
    "    for course in sorted_list:\n",
    "        # 마지막 수업이 끝나기 전에 새 수업이 시작하면 겹친다\n",
    "        if course[0] > my_selection[-1][1]:\n",
    "            my_selection.append(course)\n",
    "\n",
    "    return my_selection"
   ]
  },
  {
   "cell_type": "code",
   "execution_count": 130,
   "metadata": {},
   "outputs": [
    {
     "name": "stdout",
     "output_type": "stream",
     "text": [
      "[(1, 2), (3, 4), (5, 7), (8, 9)]\n"
     ]
    }
   ],
   "source": [
    "print(course_selection([(1, 2), (3, 4), (0, 6), (5, 7), (8, 9), (5, 9)]))"
   ]
  },
  {
   "cell_type": "code",
   "execution_count": 131,
   "metadata": {},
   "outputs": [
    {
     "name": "stdout",
     "output_type": "stream",
     "text": [
      "[(2, 3), (4, 5), (6, 8), (9, 10)]\n",
      "[(1, 3), (4, 7), (8, 10), (13, 16)]\n"
     ]
    }
   ],
   "source": [
    "# 테스트\n",
    "print(course_selection([(6, 10), (2, 3), (4, 5), (1, 7), (6, 8), (9, 10)]))\n",
    "print(course_selection([(4, 7), (2, 5), (1, 3), (8, 10), (5, 9), (2, 6), (13, 16), (9, 11), (1, 8)]))"
   ]
  },
  {
   "cell_type": "code",
   "execution_count": 135,
   "metadata": {},
   "outputs": [],
   "source": [
    "a = [(6, 10), (2, 3), (4, 5), (1, 7), (6, 8), (9, 10)]"
   ]
  },
  {
   "cell_type": "code",
   "execution_count": 136,
   "metadata": {},
   "outputs": [
    {
     "name": "stdout",
     "output_type": "stream",
     "text": [
      "[(2, 3), (4, 5), (1, 7), (6, 8), (6, 10), (9, 10)]\n"
     ]
    }
   ],
   "source": [
    "a.sort(key = lambda element: element[1])\n",
    "print(a)"
   ]
  },
  {
   "cell_type": "code",
   "execution_count": 137,
   "metadata": {},
   "outputs": [
    {
     "name": "stdout",
     "output_type": "stream",
     "text": [
      "[(2, 3)]\n"
     ]
    }
   ],
   "source": [
    "b = [a[0]]\n",
    "print(b)"
   ]
  },
  {
   "cell_type": "code",
   "execution_count": 138,
   "metadata": {},
   "outputs": [
    {
     "data": {
      "text/plain": [
       "3"
      ]
     },
     "execution_count": 138,
     "metadata": {},
     "output_type": "execute_result"
    }
   ],
   "source": [
    "b[-1][1]"
   ]
  },
  {
   "cell_type": "code",
   "execution_count": null,
   "metadata": {},
   "outputs": [],
   "source": []
  },
  {
   "cell_type": "code",
   "execution_count": null,
   "metadata": {},
   "outputs": [],
   "source": []
  },
  {
   "cell_type": "code",
   "execution_count": 110,
   "metadata": {},
   "outputs": [
    {
     "name": "stdout",
     "output_type": "stream",
     "text": [
      "3\n"
     ]
    }
   ],
   "source": [
    "output = []\n",
    "start = a[0][0]\n",
    "end = a[0][1]\n",
    "output.append((a.pop(0)))\n",
    "#a.pop(0)\n",
    "\n",
    "print(end)\n",
    "for i in a:\n",
    "    if i[1] >= end:\n",
    "        end = i[1]\n",
    "        output.append((i))\n",
    "        a.remove(i)\n",
    "    "
   ]
  },
  {
   "cell_type": "code",
   "execution_count": 111,
   "metadata": {},
   "outputs": [
    {
     "data": {
      "text/plain": [
       "[(2, 3), (4, 5), (6, 8), (9, 10)]"
      ]
     },
     "execution_count": 111,
     "metadata": {},
     "output_type": "execute_result"
    }
   ],
   "source": [
    "output"
   ]
  },
  {
   "cell_type": "code",
   "execution_count": null,
   "metadata": {},
   "outputs": [],
   "source": []
  }
 ],
 "metadata": {
  "kernelspec": {
   "display_name": "Python 3",
   "language": "python",
   "name": "python3"
  },
  "language_info": {
   "codemirror_mode": {
    "name": "ipython",
    "version": 3
   },
   "file_extension": ".py",
   "mimetype": "text/x-python",
   "name": "python",
   "nbconvert_exporter": "python",
   "pygments_lexer": "ipython3",
   "version": "3.6.8"
  }
 },
 "nbformat": 4,
 "nbformat_minor": 2
}
