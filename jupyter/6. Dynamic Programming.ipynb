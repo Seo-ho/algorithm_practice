{
 "cells": [
  {
   "cell_type": "markdown",
   "metadata": {},
   "source": [
    "# Dynamic Programming의 조건\n",
    "- 최적 부분 구조 (Optimal Substructure)\n",
    "- 중복되는 부분 문제 (Overlapping Subproblems)\n",
    "\n",
    "\n",
    "## 최적 부분 구조\n",
    "- 부분 문제들의 최적의 답을 이용해서 기존 문제의 최적의 답을 구할 수 있다는 것.\n",
    "\n",
    "\n",
    "\n",
    "## 중복되는 부분 문제\n",
    "- "
   ]
  },
  {
   "cell_type": "markdown",
   "metadata": {},
   "source": [
    "# Dynamic Programming\n",
    "- 최적 부분 구조가 있다면 부분 문제들의 최적의 답을 이용해서 기존 문제를 풀 수 있다는 것이고.\n",
    "- 즉, 기존 문제를 부분 문제로 나눠서 풀 수 있다는 것.\n",
    "- 부분 문제로 나눠서 풀다보면 중복되는 부분 문제들이 있을 수 있음.\n",
    "- 그러면 똑같은 문제를 여러번 풀어야 한다는 비효율이 발생.\n",
    "\n",
    "\n",
    "- 이런 비효율을 해결하는 알고리즘 패러다임이 Dynamic Programming\n",
    "- 한 번 계산한 결과를 재활용하는 방식"
   ]
  },
  {
   "cell_type": "markdown",
   "metadata": {},
   "source": [
    "## Dynamic Programming 구현 방법\n",
    "1. Memoization\n",
    "2. Tabulation"
   ]
  },
  {
   "cell_type": "markdown",
   "metadata": {},
   "source": [
    "### Memoization\n",
    "- 중복되는 계싼은 한번만 계산 후 메모\n",
    "- 메모하는 공간을 cache라고 함.\n",
    "- 하향식. Top-down"
   ]
  },
  {
   "cell_type": "code",
   "execution_count": 89,
   "metadata": {},
   "outputs": [],
   "source": [
    "def fib_memo(n, cache):\n",
    "    if n ==1 or n==2:\n",
    "        cache[n] = 1\n",
    "        return 1\n",
    "    # cache가 dictionary 형태야. list가 아니라. 그러면 말이 되지.\n",
    "    if n in cache:\n",
    "        return cache[n]\n",
    "    #if cache[n] != -1: #>> keyerror뜸\n",
    "    #    return cache[n]\n",
    "    else:\n",
    "        cache[n] = fib_memo(n-1, cache) + fib_memo(n-2, cache)\n",
    "        \n",
    "    \n",
    "    return cache[n]"
   ]
  },
  {
   "cell_type": "code",
   "execution_count": 70,
   "metadata": {},
   "outputs": [],
   "source": [
    "# 리스트로 이 방법이 맞는데 개오래걸리네. dictionary가 훨씬 빨라.\n",
    "def fib_memo(n, cache):\n",
    "    cache = [-1]*(n+1)\n",
    "    \n",
    "    if n==1 or n==2:\n",
    "        cache[n] = 1\n",
    "        return 1\n",
    "    \n",
    "    if cache[n] != -1:\n",
    "        return cache[n]\n",
    "    else:\n",
    "        cache[n] = fib_memo(n-1, cache) + fib_memo(n-2, cache)\n",
    "        \n",
    "    \n",
    "    return cache[n]"
   ]
  },
  {
   "cell_type": "code",
   "execution_count": 90,
   "metadata": {},
   "outputs": [],
   "source": [
    "def fib(n):\n",
    "    fib_cache = {}\n",
    "    return fib_memo(n, fib_cache)"
   ]
  },
  {
   "cell_type": "code",
   "execution_count": 91,
   "metadata": {},
   "outputs": [
    {
     "name": "stdout",
     "output_type": "stream",
     "text": [
      "55\n",
      "832040\n"
     ]
    }
   ],
   "source": [
    "print(fib(10))\n",
    "print(fib(30))\n",
    "#print(fib(50))\n",
    "#print(fib(100))"
   ]
  },
  {
   "cell_type": "code",
   "execution_count": 147,
   "metadata": {},
   "outputs": [
    {
     "data": {
      "text/plain": [
       "2"
      ]
     },
     "execution_count": 147,
     "metadata": {},
     "output_type": "execute_result"
    }
   ],
   "source": [
    "a= {1:1, 2:1, 3:2, 4:3}\n",
    "a[3]"
   ]
  },
  {
   "cell_type": "code",
   "execution_count": 78,
   "metadata": {},
   "outputs": [
    {
     "data": {
      "text/plain": [
       "{1: 1, 2: 1, 3: 2, 4: 3, 6: 10}"
      ]
     },
     "execution_count": 78,
     "metadata": {},
     "output_type": "execute_result"
    }
   ],
   "source": [
    "a[6]=10\n",
    "a"
   ]
  },
  {
   "cell_type": "code",
   "execution_count": 41,
   "metadata": {},
   "outputs": [
    {
     "name": "stdout",
     "output_type": "stream",
     "text": [
      "2\n"
     ]
    }
   ],
   "source": [
    "if 3 in a:\n",
    "    print(a[3])"
   ]
  },
  {
   "cell_type": "code",
   "execution_count": 42,
   "metadata": {},
   "outputs": [
    {
     "name": "stdout",
     "output_type": "stream",
     "text": [
      "!!\n"
     ]
    }
   ],
   "source": [
    "if 4 in a:\n",
    "    print(\"!!\")"
   ]
  },
  {
   "cell_type": "code",
   "execution_count": 43,
   "metadata": {},
   "outputs": [
    {
     "name": "stdout",
     "output_type": "stream",
     "text": [
      "1\n",
      "2\n",
      "3\n",
      "4\n"
     ]
    }
   ],
   "source": [
    "for i in a:\n",
    "    print(i)"
   ]
  },
  {
   "cell_type": "code",
   "execution_count": 62,
   "metadata": {},
   "outputs": [],
   "source": [
    "a = []\n",
    "a = [-1]*10"
   ]
  },
  {
   "cell_type": "code",
   "execution_count": 63,
   "metadata": {},
   "outputs": [
    {
     "data": {
      "text/plain": [
       "[-1, -1, -1, -1, -1, -1, -1, -1, -1, -1]"
      ]
     },
     "execution_count": 63,
     "metadata": {},
     "output_type": "execute_result"
    }
   ],
   "source": [
    "a"
   ]
  },
  {
   "cell_type": "code",
   "execution_count": 49,
   "metadata": {},
   "outputs": [
    {
     "ename": "KeyError",
     "evalue": "10",
     "output_type": "error",
     "traceback": [
      "\u001b[1;31m---------------------------------------------------------------------------\u001b[0m",
      "\u001b[1;31mKeyError\u001b[0m                                  Traceback (most recent call last)",
      "\u001b[1;32m<ipython-input-49-7c7cb9812849>\u001b[0m in \u001b[0;36m<module>\u001b[1;34m\u001b[0m\n\u001b[1;32m----> 1\u001b[1;33m \u001b[0ma\u001b[0m\u001b[1;33m[\u001b[0m\u001b[1;36m10\u001b[0m\u001b[1;33m]\u001b[0m\u001b[1;33m\u001b[0m\u001b[1;33m\u001b[0m\u001b[0m\n\u001b[0m",
      "\u001b[1;31mKeyError\u001b[0m: 10"
     ]
    }
   ],
   "source": [
    "a[10]"
   ]
  },
  {
   "cell_type": "markdown",
   "metadata": {},
   "source": [
    "### Tabulation\n",
    "- 중복되는 것부터 푸는 것.\n",
    "\n",
    "- 상향식 접근, bottom-up"
   ]
  },
  {
   "cell_type": "code",
   "execution_count": 114,
   "metadata": {},
   "outputs": [],
   "source": [
    "# dictionary\n",
    "def fib_tab(n):\n",
    "    cache = {}\n",
    "    \n",
    "    if n > 2:\n",
    "        cache[1] = 1\n",
    "    if n > 3:\n",
    "        cache[2] = 1\n",
    "    for i in range(3, n+1):\n",
    "        cache[i] = cache[i-1] + cache[i-2]\n",
    "    return cache[n]"
   ]
  },
  {
   "cell_type": "code",
   "execution_count": 123,
   "metadata": {},
   "outputs": [],
   "source": [
    "# list 사용\n",
    "def fib_tab(n):\n",
    "    fib_table = [0,1,1]\n",
    "    \n",
    "    for i in range(3, n+1):\n",
    "        #fib_table[i] = fib_table[i-1] + fib_table[i-2]\n",
    "        fib_table.append(fib_table[i-1] + fib_table[i-2])\n",
    "        \n",
    "    return fib_table[n]"
   ]
  },
  {
   "cell_type": "code",
   "execution_count": 124,
   "metadata": {},
   "outputs": [],
   "source": [
    "for i in range(3,2):\n",
    "    print(i)"
   ]
  },
  {
   "cell_type": "code",
   "execution_count": 125,
   "metadata": {},
   "outputs": [
    {
     "name": "stdout",
     "output_type": "stream",
     "text": [
      "55\n",
      "225851433717\n",
      "1725375039079340637797070384\n"
     ]
    }
   ],
   "source": [
    "print(fib_tab(10))\n",
    "print(fib_tab(56))\n",
    "print(fib_tab(132))"
   ]
  },
  {
   "cell_type": "code",
   "execution_count": 111,
   "metadata": {},
   "outputs": [
    {
     "data": {
      "text/plain": [
       "1"
      ]
     },
     "execution_count": 111,
     "metadata": {},
     "output_type": "execute_result"
    }
   ],
   "source": [
    "a= {1:1, 2:1}\n",
    "a[2]"
   ]
  },
  {
   "cell_type": "code",
   "execution_count": 98,
   "metadata": {},
   "outputs": [
    {
     "data": {
      "text/plain": [
       "{1: 1, 2: 1, 3: 5}"
      ]
     },
     "execution_count": 98,
     "metadata": {},
     "output_type": "execute_result"
    }
   ],
   "source": [
    "k=1\n",
    "a[k+2] = 5\n",
    "a"
   ]
  },
  {
   "cell_type": "code",
   "execution_count": 112,
   "metadata": {},
   "outputs": [],
   "source": [
    "jjj=10"
   ]
  },
  {
   "cell_type": "code",
   "execution_count": 113,
   "metadata": {},
   "outputs": [
    {
     "name": "stdout",
     "output_type": "stream",
     "text": [
      "3\n",
      "{1: 1, 2: 1, 3: 2}\n",
      "4\n",
      "{1: 1, 2: 1, 3: 2, 4: 3}\n",
      "5\n",
      "{1: 1, 2: 1, 3: 2, 4: 3, 5: 5}\n",
      "6\n",
      "{1: 1, 2: 1, 3: 2, 4: 3, 5: 5, 6: 8}\n",
      "7\n",
      "{1: 1, 2: 1, 3: 2, 4: 3, 5: 5, 6: 8, 7: 13}\n",
      "8\n",
      "{1: 1, 2: 1, 3: 2, 4: 3, 5: 5, 6: 8, 7: 13, 8: 21}\n",
      "9\n",
      "{1: 1, 2: 1, 3: 2, 4: 3, 5: 5, 6: 8, 7: 13, 8: 21, 9: 34}\n",
      "10\n",
      "{1: 1, 2: 1, 3: 2, 4: 3, 5: 5, 6: 8, 7: 13, 8: 21, 9: 34, 10: 55}\n"
     ]
    }
   ],
   "source": [
    "for i in range(3, jjj+1):\n",
    "    print(i)\n",
    "    a[i] = a[i-1] + a[i-2]\n",
    "    print(a)"
   ]
  },
  {
   "cell_type": "code",
   "execution_count": null,
   "metadata": {},
   "outputs": [],
   "source": []
  },
  {
   "cell_type": "markdown",
   "metadata": {},
   "source": [
    "### Memoization과 Tabulation의 차이점\n",
    "- Memoization은 재귀 >> 재귀를 너무 많이 호출하면 터짐.\n",
    "- Tabulation은 반복문 사용 >> 처음에 다 계산을 해 놓기에 중간에 필요없는 것들까지 계산함"
   ]
  },
  {
   "cell_type": "markdown",
   "metadata": {},
   "source": [
    "### 피보나치 수열 공간 최적화"
   ]
  },
  {
   "cell_type": "code",
   "execution_count": 135,
   "metadata": {},
   "outputs": [],
   "source": [
    "def fib_optimized(n):\n",
    "    previous = 0\n",
    "    current = 1\n",
    "    \n",
    "    for i in range(1,n):\n",
    "        #temp = previous\n",
    "        #previous = current\n",
    "        #current = temp + current\n",
    "        \n",
    "        current, previous = previous + current, current\n",
    "    return current"
   ]
  },
  {
   "cell_type": "code",
   "execution_count": 128,
   "metadata": {},
   "outputs": [
    {
     "name": "stdout",
     "output_type": "stream",
     "text": [
      "1\n",
      "2\n",
      "3\n"
     ]
    }
   ],
   "source": [
    "for i in range(1,4):\n",
    "    print(i)"
   ]
  },
  {
   "cell_type": "code",
   "execution_count": 133,
   "metadata": {},
   "outputs": [
    {
     "name": "stdout",
     "output_type": "stream",
     "text": [
      "3\n"
     ]
    }
   ],
   "source": [
    "print(fib_optimized(4))"
   ]
  },
  {
   "cell_type": "code",
   "execution_count": 136,
   "metadata": {},
   "outputs": [
    {
     "name": "stdout",
     "output_type": "stream",
     "text": [
      "987\n",
      "53316291173\n",
      "146178119651438213260386312206974243796773058\n"
     ]
    }
   ],
   "source": [
    "print(fib_optimized(16))\n",
    "print(fib_optimized(53))\n",
    "print(fib_optimized(213))"
   ]
  },
  {
   "cell_type": "code",
   "execution_count": null,
   "metadata": {},
   "outputs": [],
   "source": []
  },
  {
   "cell_type": "code",
   "execution_count": 148,
   "metadata": {},
   "outputs": [],
   "source": [
    "def max_profit(price_list, count):\n",
    "    max_profit_cache = {}\n",
    "\n",
    "    return max_profit_memo(price_list, count, max_profit_cache)\n"
   ]
  },
  {
   "cell_type": "code",
   "execution_count": 178,
   "metadata": {},
   "outputs": [],
   "source": [
    "def max_profit_memo(price_list, count, cache):\n",
    "    if count > len(price_list):\n",
    "        return max_profit_memo(price_list, count//2, cache) + max_profit_memo(price_list, count//2, cache)\n",
    "    if count < 2:\n",
    "        for i in range(2):\n",
    "            cache[i] = price_list[i]\n",
    "        return cache[count]\n",
    "        \n",
    "    if count in cache:\n",
    "        return cache[count]\n",
    "    \n",
    "    \n",
    "    else:\n",
    "        for i in range(1, count):\n",
    "            for j in range(1, count):\n",
    "                if i+j == count:\n",
    "                    current = max_profit_memo(price_list, i, cache) + max_profit_memo(price_list, j, cache)\n",
    "                    print(current)\n",
    "                    print(\"count:\", count)\n",
    "                    if current <= price_list[count]:\n",
    "                        cache[count] = price_list[count]\n",
    "                    else:\n",
    "                        cache[count] = current\n",
    "                        print(cache)\n",
    "                        return cache[count]\n",
    "                    print(cache)\n",
    "                        \n",
    "    return cache[count]"
   ]
  },
  {
   "cell_type": "code",
   "execution_count": 190,
   "metadata": {},
   "outputs": [],
   "source": [
    "# 답안.\n",
    "def max_profit_memo(price_list, count, cache):\n",
    "    if count < 2:\n",
    "        cache[count] = price_list[count]\n",
    "        return price_list[count]\n",
    "    \n",
    "    # 이미 계싼한 값이면 cache에 저장된 값을 리턴\n",
    "    if count in cache:\n",
    "        return cache[count]\n",
    "    \n",
    "    # profit은 count개 팔아서 가능한 최대 수익을 저장하는 변수\n",
    "    # 팔려고 하는 총개수에 대한 가격이 price_list에 없으면 일단 0으로 설정\n",
    "    # 팔려고 하는 총개수에 대한 가격이 price_list에 있으면 일단 그 가격으로 설정\n",
    "    \n",
    "    if count < len(price_list):\n",
    "        profit = price_list[count]\n",
    "    else:\n",
    "        profit = 0\n",
    "        \n",
    "    for i in range(1, count//2+1):\n",
    "        profit = max(profit, max_profit_memo(price_list, i, cache)\n",
    "                    + max_profit_memo(price_list, count-i, cache))\n",
    "    cache[count] = profit\n",
    "    \n",
    "    return profit"
   ]
  },
  {
   "cell_type": "code",
   "execution_count": 191,
   "metadata": {},
   "outputs": [
    {
     "name": "stdout",
     "output_type": "stream",
     "text": [
      "2500\n"
     ]
    }
   ],
   "source": [
    "print(max_profit([0, 100, 400, 800, 900, 1000], 10))"
   ]
  },
  {
   "cell_type": "code",
   "execution_count": 171,
   "metadata": {},
   "outputs": [],
   "source": [
    "def fib_memo(n, cache):\n",
    "    if n ==1 or n==2:\n",
    "        cache[n] = 1\n",
    "        return 1\n",
    "    if n in cache:\n",
    "        return cache[n]\n",
    "\n",
    "    else:\n",
    "        cache[n] = fib_memo(n-1, cache) + fib_memo(n-2, cache)\n",
    "        \n",
    "    \n",
    "    return cache[n]"
   ]
  },
  {
   "cell_type": "code",
   "execution_count": 172,
   "metadata": {},
   "outputs": [
    {
     "name": "stdout",
     "output_type": "stream",
     "text": [
      "200\n",
      "{0: 0, 1: 100, 2: 400}\n",
      "500\n",
      "{0: 0, 1: 100, 2: 400, 3: 800}\n",
      "500\n",
      "{0: 0, 1: 100, 2: 400, 3: 800}\n",
      "900\n",
      "{0: 0, 1: 100, 2: 400, 3: 800, 4: 900}\n",
      "800\n",
      "{0: 0, 1: 100, 2: 400, 3: 800, 4: 900}\n",
      "900\n",
      "{0: 0, 1: 100, 2: 400, 3: 800, 4: 900}\n",
      "1000\n",
      "{0: 0, 1: 100, 2: 400, 3: 800, 4: 900, 5: 1000}\n",
      "1200\n",
      "{0: 0, 1: 100, 2: 400, 3: 800, 4: 900, 5: 1200}\n",
      "1200\n"
     ]
    }
   ],
   "source": [
    "print(max_profit([0, 100, 400, 800, 900, 1000], 5))"
   ]
  },
  {
   "cell_type": "markdown",
   "metadata": {},
   "source": [
    "- 1개: 100\n",
    "- 2개: 400\n",
    "- 3개: 800원\n",
    "- 4개: 900원\n",
    "- 5개: 1200원\n",
    "- 6개: 1600\n",
    "- 7개: 1700\n",
    "- 8개: 2100\n",
    "\n",
    "- 9개: 2400"
   ]
  },
  {
   "cell_type": "code",
   "execution_count": 180,
   "metadata": {},
   "outputs": [
    {
     "data": {
      "text/plain": [
       "5"
      ]
     },
     "execution_count": 180,
     "metadata": {},
     "output_type": "execute_result"
    }
   ],
   "source": [
    "10//2"
   ]
  },
  {
   "cell_type": "code",
   "execution_count": 183,
   "metadata": {},
   "outputs": [
    {
     "name": "stdout",
     "output_type": "stream",
     "text": [
      "6\n",
      "7\n",
      "8\n",
      "9\n"
     ]
    }
   ],
   "source": [
    "for i in range(6, 10):\n",
    "    print(i)"
   ]
  },
  {
   "cell_type": "code",
   "execution_count": 182,
   "metadata": {},
   "outputs": [
    {
     "data": {
      "text/plain": [
       "6"
      ]
     },
     "execution_count": 182,
     "metadata": {},
     "output_type": "execute_result"
    }
   ],
   "source": [
    "a = [0, 100, 400, 800, 900, 1000]\n",
    "len(a)"
   ]
  },
  {
   "cell_type": "code",
   "execution_count": 189,
   "metadata": {},
   "outputs": [
    {
     "name": "stdout",
     "output_type": "stream",
     "text": [
      "1\n"
     ]
    }
   ],
   "source": [
    "for i in range(1,3//2+1):\n",
    "    print(i)"
   ]
  },
  {
   "cell_type": "code",
   "execution_count": null,
   "metadata": {},
   "outputs": [],
   "source": []
  },
  {
   "cell_type": "code",
   "execution_count": null,
   "metadata": {},
   "outputs": [],
   "source": []
  },
  {
   "cell_type": "markdown",
   "metadata": {},
   "source": [
    "### 새콤달콤 tabulation"
   ]
  },
  {
   "cell_type": "code",
   "execution_count": null,
   "metadata": {},
   "outputs": [],
   "source": [
    "# list 사용\n",
    "def fib_tab(n):\n",
    "    fib_table = [0,1,1]\n",
    "    \n",
    "    for i in range(3, n+1):\n",
    "        #fib_table[i] = fib_table[i-1] + fib_table[i-2]\n",
    "        fib_table.append(fib_table[i-1] + fib_table[i-2])\n",
    "        \n",
    "    return fib_table[n]"
   ]
  },
  {
   "cell_type": "code",
   "execution_count": null,
   "metadata": {},
   "outputs": [],
   "source": [
    "# 답안.\n",
    "def max_profit_memo(price_list, count, cache):\n",
    "    if count < 2:\n",
    "        cache[count] = price_list[count]\n",
    "        return price_list[count]\n",
    "    \n",
    "    # 이미 계싼한 값이면 cache에 저장된 값을 리턴\n",
    "    if count in cache:\n",
    "        return cache[count]\n",
    "    \n",
    "    # profit은 count개 팔아서 가능한 최대 수익을 저장하는 변수\n",
    "    # 팔려고 하는 총개수에 대한 가격이 price_list에 없으면 일단 0으로 설정\n",
    "    # 팔려고 하는 총개수에 대한 가격이 price_list에 있으면 일단 그 가격으로 설정\n",
    "    \n",
    "    if count < len(price_list):\n",
    "        profit = price_list[count]\n",
    "    else:\n",
    "        profit = 0\n",
    "        \n",
    "    for i in range(1, count//2+1):\n",
    "        profit = max(profit, max_profit_memo(price_list, i, cache)\n",
    "                    + max_profit_memo(price_list, count-i, cache))\n",
    "    cache[count] = profit\n",
    "    \n",
    "    return profit"
   ]
  },
  {
   "cell_type": "code",
   "execution_count": 195,
   "metadata": {},
   "outputs": [],
   "source": [
    "def max_profit(price_list, count):\n",
    "    cache = []\n",
    "    \n",
    "    # base case\n",
    "    if count < 2:\n",
    "        for i in range(count):\n",
    "            cache.append(price_list[i])\n",
    "    \n",
    "    # 반복문\n",
    "    #for i in range(2, count+1):\n",
    "    if count < len(price_list):\n",
    "        profit = price_list[count]\n",
    "    else:\n",
    "        profit = 0\n",
    "    \n",
    "    for i in range(2, count+1):\n",
    "        for j in range(1, count//2+1):\n",
    "            # 이건 재귀를 이용하는 거기에 잘못된거.\n",
    "            profit = max(profit, max_profit(price_list, j)\n",
    "                    + max_profit(price_list, count-j))\n",
    "        cache.append(profit)\n",
    "        \n",
    "    return profit"
   ]
  },
  {
   "cell_type": "code",
   "execution_count": null,
   "metadata": {},
   "outputs": [],
   "source": [
    "def max_profit(price_list, count):\n",
    "    # 개수별로 가능한 최대 수익을 저장하는 리스트\n",
    "    # 새꼼달꼼 0개면 0원\n",
    "    profit_table = [0]\n",
    "\n",
    "    # 개수 1부터 count까지 계산하기 위해 반복문\n",
    "    for i in range(1, count + 1):\n",
    "        # profit은 count개를 팔아서 가능한 최대 수익을 저장하는 변수\n",
    "        # 팔려고 하는 총개수에 대한 가격이 price_list에 있으면 일단 그 가격으로 설정\n",
    "        # 팔려고 하는 총개수에 대한 가격이 price_list에 없으면 일단 0으로 설정   \n",
    "        if i < len(price_list):\n",
    "            profit = price_list[i]\n",
    "        else:\n",
    "            profit = 0\n",
    "\n",
    "        # count개를 팔 수 있는 조합들을 비교해서, 가능한 최대 수익을 찾는다\n",
    "        for j in range(1, i // 2 + 1):\n",
    "            profit = max(profit, profit_table[j] + profit_table[i - j])\n",
    "\n",
    "        profit_table.append(profit)\n",
    "\n",
    "    return profit_table[count]\n"
   ]
  },
  {
   "cell_type": "code",
   "execution_count": 196,
   "metadata": {},
   "outputs": [
    {
     "name": "stdout",
     "output_type": "stream",
     "text": [
      "2500\n"
     ]
    }
   ],
   "source": [
    "print(max_profit([0, 100, 400, 800, 900, 1000], 10))"
   ]
  },
  {
   "cell_type": "code",
   "execution_count": 197,
   "metadata": {},
   "outputs": [
    {
     "name": "stdout",
     "output_type": "stream",
     "text": [
      "2000\n",
      "2400\n",
      "1800\n"
     ]
    }
   ],
   "source": [
    "print(max_profit([0, 200, 600, 900, 1200, 2000], 5))\n",
    "print(max_profit([0, 300, 600, 700, 1100, 1400], 8))\n",
    "print(max_profit([0, 100, 200, 400, 600, 900, 1200, 1300, 1500, 1800], 9))\n"
   ]
  },
  {
   "cell_type": "code",
   "execution_count": 192,
   "metadata": {},
   "outputs": [
    {
     "name": "stdout",
     "output_type": "stream",
     "text": [
      "2\n",
      "3\n",
      "4\n"
     ]
    }
   ],
   "source": [
    "for i in range(2, 5):\n",
    "    print(i)"
   ]
  },
  {
   "cell_type": "code",
   "execution_count": null,
   "metadata": {},
   "outputs": [],
   "source": []
  }
 ],
 "metadata": {
  "kernelspec": {
   "display_name": "Python 3",
   "language": "python",
   "name": "python3"
  },
  "language_info": {
   "codemirror_mode": {
    "name": "ipython",
    "version": 3
   },
   "file_extension": ".py",
   "mimetype": "text/x-python",
   "name": "python",
   "nbconvert_exporter": "python",
   "pygments_lexer": "ipython3",
   "version": "3.6.8"
  }
 },
 "nbformat": 4,
 "nbformat_minor": 2
}
