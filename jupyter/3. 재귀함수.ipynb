{
 "cells": [
  {
   "cell_type": "markdown",
   "metadata": {},
   "source": [
    "## 재귀\n",
    "- 재귀적으로 문제를 푼다는 것 == 같은 형태의 더 작은 문제(부분 문제)를 푸는 것\n",
    "- 부분 문제의 답을 이용해서 기존 문제를 푸는 것\n",
    "- base case, recursive case 두개 생각해야대!!!"
   ]
  },
  {
   "cell_type": "code",
   "execution_count": 11,
   "metadata": {},
   "outputs": [],
   "source": [
    "def countdown(n):\n",
    "    if n>0:\n",
    "        print(n)\n",
    "        countdown(n-1)"
   ]
  },
  {
   "cell_type": "code",
   "execution_count": 2,
   "metadata": {},
   "outputs": [
    {
     "name": "stdout",
     "output_type": "stream",
     "text": [
      "4\n",
      "3\n",
      "2\n",
      "1\n"
     ]
    }
   ],
   "source": [
    "countdown(4)"
   ]
  },
  {
   "cell_type": "code",
   "execution_count": 8,
   "metadata": {},
   "outputs": [],
   "source": [
    "def factorial(n):\n",
    "    if n>0:\n",
    "        return n*factorial(n-1)\n",
    "    else:\n",
    "        return 1"
   ]
  },
  {
   "cell_type": "code",
   "execution_count": 10,
   "metadata": {},
   "outputs": [
    {
     "data": {
      "text/plain": [
       "120"
      ]
     },
     "execution_count": 10,
     "metadata": {},
     "output_type": "execute_result"
    }
   ],
   "source": [
    "factorial(int(5))"
   ]
  },
  {
   "cell_type": "markdown",
   "metadata": {},
   "source": [
    "- 반복문으로 풀 수 있는거 재귀적으로 풀 수 있고 거꾸로도 되고"
   ]
  },
  {
   "cell_type": "code",
   "execution_count": 12,
   "metadata": {},
   "outputs": [],
   "source": [
    "# 피보나치 수열\n",
    "def fib(n):\n",
    "    if n==1 or n==2:\n",
    "        return 1\n",
    "    else:\n",
    "        return fib(n-1) + fib(n-2)"
   ]
  },
  {
   "cell_type": "code",
   "execution_count": 13,
   "metadata": {},
   "outputs": [
    {
     "name": "stdout",
     "output_type": "stream",
     "text": [
      "1\n",
      "1\n",
      "2\n",
      "3\n",
      "5\n",
      "8\n",
      "13\n",
      "21\n",
      "34\n",
      "55\n"
     ]
    }
   ],
   "source": [
    "for i in range(1,11):\n",
    "    print(fib(i))"
   ]
  },
  {
   "cell_type": "code",
   "execution_count": 15,
   "metadata": {},
   "outputs": [],
   "source": [
    "# 숫자 합\n",
    "def triangle_number(n):\n",
    "    if n==1:\n",
    "        return 1\n",
    "    else:\n",
    "        return n+triangle_number(n-1)"
   ]
  },
  {
   "cell_type": "code",
   "execution_count": 16,
   "metadata": {},
   "outputs": [
    {
     "name": "stdout",
     "output_type": "stream",
     "text": [
      "1\n",
      "3\n",
      "6\n",
      "10\n",
      "15\n",
      "21\n",
      "28\n",
      "36\n",
      "45\n",
      "55\n"
     ]
    }
   ],
   "source": [
    "for i in range(1, 11):\n",
    "    print(triangle_number(i))"
   ]
  },
  {
   "cell_type": "code",
   "execution_count": 21,
   "metadata": {},
   "outputs": [],
   "source": [
    "# 자릿수 합. 이거는 반복문\n",
    "def sum_digits(n):\n",
    "    output = 0\n",
    "    for i in str(n):\n",
    "        output+=int(i)\n",
    "    return output"
   ]
  },
  {
   "cell_type": "code",
   "execution_count": 42,
   "metadata": {},
   "outputs": [],
   "source": [
    "# 자릿수 합. 이거는 재귀\n",
    "def sum_digits(n):\n",
    "    a = str(n)\n",
    "    size = len(a)\n",
    "    if len(a) == 1:\n",
    "        return int(a[0])\n",
    "    else:\n",
    "        return int(a[-1]) + sum_digits(int(a[:-1]))"
   ]
  },
  {
   "cell_type": "code",
   "execution_count": 46,
   "metadata": {},
   "outputs": [],
   "source": [
    "# n의 각 자릿수의 합을 리턴\n",
    "# 가장 깔끔한 답.\n",
    "def sum_digits(n):\n",
    "    if n < 10:\n",
    "        return n\n",
    "    else:\n",
    "        # 나머지(마지막 자리) + 재귀함수(iinput으로 몫)\n",
    "        n&10 + sum_digits(n//10)"
   ]
  },
  {
   "cell_type": "code",
   "execution_count": 31,
   "metadata": {},
   "outputs": [
    {
     "name": "stdout",
     "output_type": "stream",
     "text": [
      "1\n",
      "2\n",
      "3\n"
     ]
    }
   ],
   "source": [
    "a = str(123)\n",
    "for i in a:\n",
    "    print(i)\n",
    "size = len(a)"
   ]
  },
  {
   "cell_type": "code",
   "execution_count": 39,
   "metadata": {},
   "outputs": [
    {
     "data": {
      "text/plain": [
       "12"
      ]
     },
     "execution_count": 39,
     "metadata": {},
     "output_type": "execute_result"
    }
   ],
   "source": [
    "int(a[size-1])\n",
    "int(a[:-1])"
   ]
  },
  {
   "cell_type": "code",
   "execution_count": 43,
   "metadata": {},
   "outputs": [
    {
     "name": "stdout",
     "output_type": "stream",
     "text": [
      "14\n",
      "15\n",
      "16\n",
      "11\n",
      "20\n"
     ]
    }
   ],
   "source": [
    "# 테스트\n",
    "print(sum_digits(22541))\n",
    "print(sum_digits(92130))\n",
    "print(sum_digits(12634))\n",
    "print(sum_digits(704))\n",
    "print(sum_digits(3755))"
   ]
  },
  {
   "cell_type": "code",
   "execution_count": 44,
   "metadata": {},
   "outputs": [
    {
     "data": {
      "text/plain": [
       "2254"
      ]
     },
     "execution_count": 44,
     "metadata": {},
     "output_type": "execute_result"
    }
   ],
   "source": [
    "# 몫\n",
    "22541//10"
   ]
  },
  {
   "cell_type": "code",
   "execution_count": 45,
   "metadata": {},
   "outputs": [
    {
     "data": {
      "text/plain": [
       "1"
      ]
     },
     "execution_count": 45,
     "metadata": {},
     "output_type": "execute_result"
    }
   ],
   "source": [
    "# 나머지\n",
    "22541%10"
   ]
  },
  {
   "cell_type": "code",
   "execution_count": 60,
   "metadata": {},
   "outputs": [],
   "source": [
    "# 리스트 뒤집기. reverse\n",
    "def flip(some_list):\n",
    "    if len(some_list)<2:\n",
    "        return some_list\n",
    "    else:\n",
    "        return some_list[-1:] + flip(some_list[:-1])"
   ]
  },
  {
   "cell_type": "code",
   "execution_count": null,
   "metadata": {},
   "outputs": [],
   "source": [
    "def flip(some_list):\n",
    "    if len(some_list) == 1:\n",
    "        return some_list\n",
    "    else:\n",
    "        last = some_list.pop()\n",
    "        return [last] + flip(some_list)"
   ]
  },
  {
   "cell_type": "code",
   "execution_count": 47,
   "metadata": {},
   "outputs": [
    {
     "data": {
      "text/plain": [
       "[1, 2, 3, 4]"
      ]
     },
     "execution_count": 47,
     "metadata": {},
     "output_type": "execute_result"
    }
   ],
   "source": [
    "[1,2]+[3,4]"
   ]
  },
  {
   "cell_type": "code",
   "execution_count": 57,
   "metadata": {},
   "outputs": [
    {
     "data": {
      "text/plain": [
       "[4]"
      ]
     },
     "execution_count": 57,
     "metadata": {},
     "output_type": "execute_result"
    }
   ],
   "source": [
    "a = [1,2,3,4]\n",
    "a[-1:]"
   ]
  },
  {
   "cell_type": "code",
   "execution_count": 61,
   "metadata": {},
   "outputs": [
    {
     "name": "stdout",
     "output_type": "stream",
     "text": [
      "[9, 8, 7, 6, 5, 4, 3, 2, 1]\n"
     ]
    }
   ],
   "source": [
    "some_list = [1, 2, 3, 4, 5, 6, 7, 8, 9]\n",
    "some_list = flip(some_list)\n",
    "print(some_list)"
   ]
  },
  {
   "cell_type": "code",
   "execution_count": 63,
   "metadata": {},
   "outputs": [
    {
     "data": {
      "text/plain": [
       "[1, 2, 3, 4]"
      ]
     },
     "execution_count": 63,
     "metadata": {},
     "output_type": "execute_result"
    }
   ],
   "source": [
    "a=[1,2]\n",
    "b = [3,4]\n",
    "a+b"
   ]
  },
  {
   "cell_type": "code",
   "execution_count": 79,
   "metadata": {},
   "outputs": [],
   "source": [
    "# 이진 탐색 재귀로 구현해보기\n",
    "def binary_search(element, some_list, start_index=0, end_index=None):\n",
    "    if end_index == None:\n",
    "        end_index = len(some_list) - 1\n",
    "    #print(start_index)\n",
    "    if 0 <= start_index <= end_index:\n",
    "        if some_list[start_index] == element:\n",
    "            return start_index\n",
    "        else:\n",
    "            return binary_search(element, some_list, start_index = start_index+1)\n",
    "            return binary_search(element, some_list, start_index = start_index+2)"
   ]
  },
  {
   "cell_type": "code",
   "execution_count": 80,
   "metadata": {},
   "outputs": [
    {
     "name": "stdout",
     "output_type": "stream",
     "text": [
      "0\n",
      "None\n",
      "2\n",
      "1\n",
      "4\n"
     ]
    }
   ],
   "source": [
    "print(binary_search(2, [2, 3, 5, 7, 11]))\n",
    "print(binary_search(0, [2, 3, 5, 7, 11]))\n",
    "print(binary_search(5, [2, 3, 5, 7, 11]))\n",
    "print(binary_search(3, [2, 3, 5, 7, 11]))\n",
    "print(binary_search(11, [2, 3, 5, 7, 11]))"
   ]
  },
  {
   "cell_type": "code",
   "execution_count": 81,
   "metadata": {},
   "outputs": [],
   "source": [
    "def binary_search(element, some_list, start_index=0, end_index=None):\n",
    "    # end_index가 따로 주어지지 않은 경우에는 리스트의 마지막 인덱스\n",
    "    if end_index == None:\n",
    "        end_index = len(some_list) - 1\n",
    "    if start_index > end_index:\n",
    "        return None\n",
    "    if some_list[(start_index + end_index) // 2] == element:\n",
    "        return ((start_index + end_index) // 2)\n",
    "    elif some_list[(start_index + end_index) // 2] > element:\n",
    "        return binary_search(element, some_list, start_index=start_index, end_index = ((start_index + end_index) // 2) - 1)\n",
    "    else:\n",
    "        return binary_search(element, some_list, start_index = ((start_index + end_index) // 2) + 1, end_index=end_index)\n"
   ]
  },
  {
   "cell_type": "code",
   "execution_count": 82,
   "metadata": {},
   "outputs": [],
   "source": [
    "def binary_search(element, some_list, start_index=0, end_index=None):\n",
    "    # end_index가 따로 주어지지 않은 경우에는 리스트의 마지막 인덱스\n",
    "    if end_index == None:\n",
    "        end_index = len(some_list) - 1\n",
    "\n",
    "    # start_index가 end_index보다 크면 some_list안에 element는 없다\n",
    "    if start_index > end_index:\n",
    "        return None\n",
    "      \n",
    "    # 범위의 중간 인덱스를 찾는다\n",
    "    mid = (start_index + end_index) // 2\n",
    "  \n",
    "    # 이 인덱스의 값이 찾는 값인지 확인을 해준다\n",
    "    if some_list[mid] == element:\n",
    "        return mid\n",
    "\n",
    "    # 찾는 항목이 중간 값보다 작으면 리스트 왼쪽을 탐색해준다\n",
    "    if element < some_list[mid]:\n",
    "        return binary_search(element, some_list, start_index, mid - 1)\n",
    "\n",
    "    # 찾는 항목이 중간 값보다 크면 리스트 오른쪽을 탐색해준다\n",
    "    else:\n",
    "        return binary_search(element, some_list, mid + 1, end_index) "
   ]
  },
  {
   "cell_type": "code",
   "execution_count": null,
   "metadata": {},
   "outputs": [],
   "source": []
  },
  {
   "cell_type": "markdown",
   "metadata": {},
   "source": [
    "## 하노이의 탑"
   ]
  },
  {
   "cell_type": "code",
   "execution_count": 83,
   "metadata": {},
   "outputs": [],
   "source": [
    "def move_disk(disk_num, start_peg, end_peg):\n",
    "    print(\"%d번 원판을 %d번 기둥에서 %d번 기둥으로 이동\" % (disk_num, start_peg, end_peg))"
   ]
  },
  {
   "cell_type": "code",
   "execution_count": 125,
   "metadata": {},
   "outputs": [],
   "source": [
    "def hanoi(num_disks, start_peg, end_peg):\n",
    "    \n",
    "    \n",
    "    #for i in range(num_disks):\n",
    "        #num_disks = i+1\n",
    "    if num_disks == 0:\n",
    "        return\n",
    "    else:\n",
    "        other_peg = 6-start_peg-end_peg\n",
    "        \n",
    "        # 1. 가장 큰거 빼고 other_peg로\n",
    "        hanoi(num_disks-1, start_peg, other_peg)\n",
    "        \n",
    "        # 2. 가장 큰거 end_peg\n",
    "        move_disk(num_disks, start_peg, end_peg)\n",
    "        \n",
    "        # 3. 나머지 원판 other_peg에서 end_peg로\n",
    "        hanoi(num_disks-1, other_peg, end_peg)\n",
    "    "
   ]
  },
  {
   "cell_type": "code",
   "execution_count": 126,
   "metadata": {},
   "outputs": [
    {
     "name": "stdout",
     "output_type": "stream",
     "text": [
      "1번 원판을 1번 기둥에서 3번 기둥으로 이동\n"
     ]
    }
   ],
   "source": [
    "hanoi(1,1,3)"
   ]
  },
  {
   "cell_type": "code",
   "execution_count": 127,
   "metadata": {},
   "outputs": [
    {
     "name": "stdout",
     "output_type": "stream",
     "text": [
      "1번 원판을 1번 기둥에서 2번 기둥으로 이동\n",
      "2번 원판을 1번 기둥에서 3번 기둥으로 이동\n",
      "1번 원판을 2번 기둥에서 3번 기둥으로 이동\n"
     ]
    }
   ],
   "source": [
    "hanoi(2,1,3)"
   ]
  },
  {
   "cell_type": "code",
   "execution_count": null,
   "metadata": {},
   "outputs": [],
   "source": []
  }
 ],
 "metadata": {
  "kernelspec": {
   "display_name": "Python 3",
   "language": "python",
   "name": "python3"
  },
  "language_info": {
   "codemirror_mode": {
    "name": "ipython",
    "version": 3
   },
   "file_extension": ".py",
   "mimetype": "text/x-python",
   "name": "python",
   "nbconvert_exporter": "python",
   "pygments_lexer": "ipython3",
   "version": "3.6.8"
  }
 },
 "nbformat": 4,
 "nbformat_minor": 2
}
