{
 "cells": [
  {
   "cell_type": "markdown",
   "metadata": {},
   "source": [
    "# Divide and Conquer(분할 정복)\n",
    "3단계\n",
    "1. Divide\n",
    "2. Conquer(부분 문제를 푼다) - 여기서 재귀가 발생함. 다시 divide부터\n",
    "3. Combine"
   ]
  },
  {
   "cell_type": "markdown",
   "metadata": {},
   "source": [
    "### 1부터 n까지의 합 실습"
   ]
  },
  {
   "cell_type": "code",
   "execution_count": 1,
   "metadata": {},
   "outputs": [],
   "source": [
    "def consecutive_sum(start, end):\n",
    "    \n",
    "    value = (end - start)\n",
    "    mid = (start+end) // 2\n",
    "    if value == 0:\n",
    "        return start\n",
    "    else:\n",
    "        return consecutive_sum(start, mid) + consecutive_sum(mid+1, end)"
   ]
  },
  {
   "cell_type": "code",
   "execution_count": 14,
   "metadata": {},
   "outputs": [
    {
     "data": {
      "text/plain": [
       "5"
      ]
     },
     "execution_count": 14,
     "metadata": {},
     "output_type": "execute_result"
    }
   ],
   "source": [
    "11//2"
   ]
  },
  {
   "cell_type": "code",
   "execution_count": 2,
   "metadata": {},
   "outputs": [
    {
     "name": "stdout",
     "output_type": "stream",
     "text": [
      "55\n",
      "5050\n",
      "32131\n",
      "75466\n"
     ]
    }
   ],
   "source": [
    "print(consecutive_sum(1, 10))\n",
    "print(consecutive_sum(1, 100))\n",
    "print(consecutive_sum(1, 253))\n",
    "print(consecutive_sum(1, 388))"
   ]
  },
  {
   "cell_type": "markdown",
   "metadata": {},
   "source": [
    "## 합병 정렬(merge sort)\n",
    "1. Divide - 리스트를 반으로 나눈다.\n",
    "2. Conquer - 왼쪽 리스트와 오른쪽 리스트를 각각 정렬한다.\n",
    "3. Combine - 정렬된 두 리스트를 하나의 정렬된 리스트로 합병한다."
   ]
  },
  {
   "cell_type": "code",
   "execution_count": 64,
   "metadata": {},
   "outputs": [],
   "source": [
    "def merge(list1, list2):\n",
    "    output = []\n",
    "    \n",
    "    len_1 = len(list1)\n",
    "    len_2 = len(list2)\n",
    "    #print(len_1, len_2)\n",
    "    i=0\n",
    "    j=0\n",
    "#     if len_1 == 0:\n",
    "#         output += list2\n",
    "#     elif len_2 == 0:\n",
    "#         output += list1\n",
    "    while i < len_1 and j < len_2:\n",
    "        #print(i)\n",
    "        if list1[i] < list2[j]:\n",
    "            output.append(list1[i])\n",
    "            i+=1\n",
    "        else:\n",
    "            output.append(list2[j])\n",
    "            j+=1\n",
    "    \n",
    "    if i == len_1:\n",
    "        output += list2[j:]\n",
    "    elif j == len_2:\n",
    "        output +=list1[i:]\n",
    "    return output"
   ]
  },
  {
   "cell_type": "code",
   "execution_count": 62,
   "metadata": {},
   "outputs": [
    {
     "name": "stdout",
     "output_type": "stream",
     "text": [
      "1 0\n",
      "[1]\n"
     ]
    }
   ],
   "source": [
    "print(merge([1],[]))"
   ]
  },
  {
   "cell_type": "code",
   "execution_count": 48,
   "metadata": {},
   "outputs": [],
   "source": [
    "list1 = [1,2,3,4]\n",
    "list2 = [5,6,7,8]\n",
    "\n",
    "output = []\n",
    "len_1 = len(list1)\n",
    "len_2 = len(list2)\n",
    "    \n",
    "i=0\n",
    "j=0"
   ]
  },
  {
   "cell_type": "code",
   "execution_count": 49,
   "metadata": {},
   "outputs": [],
   "source": [
    "while i < len_1 and j < len_2:\n",
    "    if list1[i] < list2[j]:\n",
    "        output.append(list1[i])\n",
    "        i+=1\n",
    "    else:\n",
    "        output.append(list2[j])\n",
    "        j+=1\n",
    "    \n",
    "    if i == len_1:\n",
    "        output += list2[j:]\n",
    "    elif j == len_2:\n",
    "        output +=list1[i:]"
   ]
  },
  {
   "cell_type": "code",
   "execution_count": 50,
   "metadata": {},
   "outputs": [
    {
     "data": {
      "text/plain": [
       "[1, 2, 3, 4, 5, 6, 7, 8]"
      ]
     },
     "execution_count": 50,
     "metadata": {},
     "output_type": "execute_result"
    }
   ],
   "source": [
    "output"
   ]
  },
  {
   "cell_type": "code",
   "execution_count": 65,
   "metadata": {},
   "outputs": [
    {
     "name": "stdout",
     "output_type": "stream",
     "text": [
      "[1]\n",
      "[1]\n",
      "[1, 2]\n",
      "[1, 2, 3, 4, 5, 6, 7, 8]\n",
      "[1, 2, 3, 4, 5, 6, 7, 8]\n",
      "[1, 3, 4, 6, 7, 8, 9, 10]\n"
     ]
    }
   ],
   "source": [
    "print(merge([1],[]))\n",
    "print(merge([],[1]))\n",
    "print(merge([2],[1]))\n",
    "print(merge([1, 2, 3, 4],[5, 6, 7, 8]))\n",
    "print(merge([5, 6, 7, 8],[1, 2, 3, 4]))\n",
    "print(merge([4, 7, 8, 9],[1, 3, 6, 10]))"
   ]
  },
  {
   "cell_type": "code",
   "execution_count": 66,
   "metadata": {},
   "outputs": [],
   "source": [
    "a=[1,2,3,4,5]"
   ]
  },
  {
   "cell_type": "code",
   "execution_count": 67,
   "metadata": {},
   "outputs": [
    {
     "data": {
      "text/plain": [
       "[2, 3, 4, 5]"
      ]
     },
     "execution_count": 67,
     "metadata": {},
     "output_type": "execute_result"
    }
   ],
   "source": [
    "a[1:]"
   ]
  },
  {
   "cell_type": "markdown",
   "metadata": {},
   "source": [
    "### merge sort 구현하기"
   ]
  },
  {
   "cell_type": "code",
   "execution_count": 96,
   "metadata": {},
   "outputs": [],
   "source": [
    "def merge(list1, list2):\n",
    "    output = []\n",
    "    \n",
    "    len_1 = len(list1)\n",
    "    len_2 = len(list2)\n",
    "    i=0\n",
    "    j=0\n",
    "    while i < len_1 and j < len_2:\n",
    "        if list1[i] < list2[j]:\n",
    "            output.append(list1[i])\n",
    "            i+=1\n",
    "        else:\n",
    "            output.append(list2[j])\n",
    "            j+=1\n",
    "    \n",
    "    if i == len_1:\n",
    "        output += list2[j:]\n",
    "    elif j == len_2:\n",
    "        output +=list1[i:]\n",
    "    return output"
   ]
  },
  {
   "cell_type": "code",
   "execution_count": 106,
   "metadata": {},
   "outputs": [],
   "source": [
    "# 내가 구현한거\n",
    "def merge_sort(list_1):\n",
    "    \n",
    "    if len(list_1) < 2:\n",
    "        #print(list_1)\n",
    "        return list_1\n",
    "    end_index = len(list_1) \n",
    "    start_index = 0\n",
    "    mid_index = (start_index + end_index) // 2\n",
    "    \n",
    "    if 0 < mid_index < end_index:\n",
    "        print(mid_index)\n",
    "        left = merge_sort(list_1[:mid_index])\n",
    "        right = merge_sort(list_1[mid_index:])\n",
    "        return merge(left,right)\n",
    "#     left = list_1[:mid_index]\n",
    "#     right = list_1[mid_index:]\n",
    "    \n",
    "#     return merge(merge_sort(left) , merge_sort(right))"
   ]
  },
  {
   "cell_type": "code",
   "execution_count": null,
   "metadata": {},
   "outputs": [],
   "source": [
    "def merge_sort(my_list):\n",
    "    # base case\n",
    "    if len(my_list) < 2:\n",
    "        return my_list\n",
    "\n",
    "    # my_list를 반씩 나눈다(divide)\n",
    "    left_half = my_list[:len(my_list)//2]    # 왼쪽 반\n",
    "    right_half = my_list[len(my_list)//2:]   # 오른쪽 반\n",
    "\n",
    "    # merge_sort 함수를 재귀적으로 호출하여 부분 문제 해결(conquer)하고,\n",
    "    # merge 함수로 정렬된 두 리스트를 합쳐(combine)준다\n",
    "    return merge(merge_sort(left_half), merge_sort(right_half))"
   ]
  },
  {
   "cell_type": "code",
   "execution_count": 107,
   "metadata": {},
   "outputs": [
    {
     "name": "stdout",
     "output_type": "stream",
     "text": [
      "[1, 3, 4, 7, 9, 11, 11, 13]\n"
     ]
    }
   ],
   "source": [
    "print(merge_sort([1, 3, 4, 7, 9, 11, 13, 11]))\n",
    "#print(merge_sort([28, 13, 9, 30, 1, 48, 5, 7, 15]))\n",
    "#print(merge_sort([2, 5, 6, 7, 1, 2, 4, 7, 10, 11, 4, 15, 13, 1, 6, 4]))"
   ]
  },
  {
   "cell_type": "markdown",
   "metadata": {},
   "source": [
    "### Quick sort\n",
    "- divide에서 대부분의 일을 함\n",
    "\n",
    "\n",
    "#### Partition\n",
    "- Divide 역할.\n",
    "- pivot을 기준으로 작은값과 큰값으로 나누는 것.\n",
    "- base: pivot 양쪽으로 값이 1개만 있을 때. pivot을 기준으로 왼쪽은 작은걸로 이미 순서대로 정렬되어 있기에"
   ]
  },
  {
   "cell_type": "markdown",
   "metadata": {},
   "source": [
    "- 총 4개의 group. small, big, unknown, pivot\n",
    "- 변수 총 4개 사용. start, end, b, i\n",
    "- i,b는 맨 처음에 0.\n",
    "- start는 list 시작점. end는 맨 마지막이고 p=end\n",
    "- list의 맨 앞부터 pivot보다 크면 i+=1\n",
    "- pivot보다 작으면 b에 있는 값이랑 i에 잇는 값이랑 change, b+=1, i+=1\n",
    "- i=p가 되면 b가 가리키고 있는 값이랑 pivot이랑 바꾸면 됨."
   ]
  },
  {
   "cell_type": "code",
   "execution_count": 1,
   "metadata": {},
   "outputs": [],
   "source": [
    "def swap_elements(my_list, index_1, index_2):\n",
    "    temp = my_list[index_1]\n",
    "    my_list[index_1] = my_list[index_2]\n",
    "    my_list[index_2] = temp"
   ]
  },
  {
   "cell_type": "code",
   "execution_count": 107,
   "metadata": {},
   "outputs": [],
   "source": [
    "# 내가 푼거 >> 잘못됨.\n",
    "def partition(my_list, start, end):\n",
    "    p = end\n",
    "    b = start\n",
    "    i = start\n",
    "    \n",
    "    for i in range(end):\n",
    "        #print(\"i:\", i)\n",
    "        if my_list[i] > my_list[p]:\n",
    "            i+=1\n",
    "        else:\n",
    "            swap_elements(my_list, i, b)\n",
    "            b+=1\n",
    "            i+=1\n",
    "    swap_elements(my_list, b, end)\n",
    "    p=b\n",
    "    #print(p)\n",
    "    #return my_list.index(p)\n",
    "    return p"
   ]
  },
  {
   "cell_type": "code",
   "execution_count": 108,
   "metadata": {},
   "outputs": [],
   "source": [
    "def partition(my_list, start, end):\n",
    "    # 리스트 값 확인과 기준점 이하 값들의 위치 확인을 위한 변수 정의\n",
    "    i = start\n",
    "    b = start\n",
    "    p = end\n",
    "\n",
    "    # 범위안의 모든 값들을 볼 때까지 반복문을 돌린다\n",
    "    while i < p:\n",
    "       # print(\"i:\", i)\n",
    "        # i 인덱스의 값이 기준점보다 작으면 i와 b 인덱스에 있는 값들을 교환하고 b를 1 증가 시킨다\n",
    "        if my_list[i] <= my_list[p]:\n",
    "            swap_elements(my_list, i, b)\n",
    "            b += 1\n",
    "        i += 1\n",
    "\n",
    "    # b와 기준점인 p 인덱스에 있는 값들을 바꿔준다\n",
    "    swap_elements(my_list, b, p)\n",
    "    p = b\n",
    "\n",
    "    # pivot의 최종 인덱스를 리턴해 준다\n",
    "    return p"
   ]
  },
  {
   "cell_type": "code",
   "execution_count": 27,
   "metadata": {},
   "outputs": [
    {
     "name": "stdout",
     "output_type": "stream",
     "text": [
      "[1, 2, 6, 4, 5, 3]\n"
     ]
    }
   ],
   "source": [
    "list1 = [1, 2, 3, 4, 5, 6]\n",
    "swap_elements(list1, 2, 5)  # 2번 인덱스 값과 5번 인덱스 값 위치 바꿈\n",
    "print(list1)                # => [1, 2, 6, 4, 5, 3]"
   ]
  },
  {
   "cell_type": "code",
   "execution_count": 28,
   "metadata": {},
   "outputs": [
    {
     "name": "stdout",
     "output_type": "stream",
     "text": [
      "5\n",
      "[4, 3, 2, 1, 5, 6, 7]\n",
      "4\n"
     ]
    }
   ],
   "source": [
    "list1 = [4, 3, 6, 2, 7, 1, 5]\n",
    "pivot_index1 = partition(list1, 0, len(list1) - 1)\n",
    "print(list1)\n",
    "print(pivot_index1)"
   ]
  },
  {
   "cell_type": "code",
   "execution_count": 31,
   "metadata": {},
   "outputs": [
    {
     "name": "stdout",
     "output_type": "stream",
     "text": [
      "[1, 2, 3, 4, 6, 5, 6]\n",
      "3\n"
     ]
    }
   ],
   "source": [
    "list2 = [6, 1, 2, 6, 3, 5, 4]\n",
    "pivot_index2 = partition(list2, 0, len(list2) - 1)\n",
    "print(list2)\n",
    "print(pivot_index2)"
   ]
  },
  {
   "cell_type": "code",
   "execution_count": 19,
   "metadata": {},
   "outputs": [
    {
     "name": "stdout",
     "output_type": "stream",
     "text": [
      "0\n",
      "1\n",
      "2\n",
      "3\n",
      "4\n",
      "5\n"
     ]
    }
   ],
   "source": [
    "for i in range(6):\n",
    "    print(i)"
   ]
  },
  {
   "cell_type": "code",
   "execution_count": null,
   "metadata": {},
   "outputs": [],
   "source": []
  },
  {
   "cell_type": "markdown",
   "metadata": {},
   "source": [
    "- base: pivot 양쪽으로 값이 1개만 있을 때. pivot을 기준으로 왼쪽은 작은걸로 이미 순서대로 정렬되어 있기에"
   ]
  },
  {
   "cell_type": "code",
   "execution_count": 109,
   "metadata": {},
   "outputs": [],
   "source": [
    "def quicksort(my_list, start, end):\n",
    "    #print(p)\n",
    "    #if len(my_list[:p]) <2 or len(my_list[p+1:]) < 2:\n",
    "    #     return my_list\n",
    "    if end - start < 1:\n",
    "        return\n",
    "    p = partition(my_list, start, end)\n",
    "        #print(my_list)\n",
    "        #return quicksort(my_list, start, p-1) + my_list[p] + quicksort(my_list, p+1, end)\n",
    "    quicksort(my_list, start, p-1)\n",
    "    quicksort(my_list, p+1, end)"
   ]
  },
  {
   "cell_type": "code",
   "execution_count": 110,
   "metadata": {},
   "outputs": [
    {
     "name": "stdout",
     "output_type": "stream",
     "text": [
      "[1, 3, 5, 7, 9, 11, 11, 13]\n"
     ]
    }
   ],
   "source": [
    "list1 = [1, 3, 5, 7, 9, 11, 13, 11]\n",
    "quicksort(list1, 0, len(list1) - 1)\n",
    "print(list1)"
   ]
  },
  {
   "cell_type": "code",
   "execution_count": 111,
   "metadata": {},
   "outputs": [
    {
     "name": "stdout",
     "output_type": "stream",
     "text": [
      "[1, 5, 7, 9, 13, 15, 28, 30, 48]\n"
     ]
    }
   ],
   "source": [
    "list2 = [28, 13, 9, 30, 1, 48, 5, 7, 15]\n",
    "quicksort(list2, 0, len(list2) - 1)\n",
    "print(list2)"
   ]
  },
  {
   "cell_type": "code",
   "execution_count": 163,
   "metadata": {},
   "outputs": [],
   "source": [
    "def quicksort(my_list, start=0, end=None):\n",
    "    if end == None:\n",
    "        end = len(my_list)-1\n",
    "    if end - start < 1:\n",
    "        return my_list\n",
    "    p = partition(my_list, start, end)\n",
    "    \n",
    "    quicksort(my_list, start, p-1)\n",
    "    quicksort(my_list, p+1, end)"
   ]
  },
  {
   "cell_type": "code",
   "execution_count": 164,
   "metadata": {},
   "outputs": [
    {
     "name": "stdout",
     "output_type": "stream",
     "text": [
      "[1, 1, 2, 2, 2, 3, 4, 4, 5, 5, 6, 6, 7, 7, 8, 9, 10, 11]\n"
     ]
    }
   ],
   "source": [
    "test_list = [9, 5, 1, 5, 2, 8, 2, 7, 1, 3, 6, 2, 4, 7, 10, 11, 4, 6]\n",
    "quicksort(test_list) # start, end 파라미터 없이 호출\n",
    "print(test_list)"
   ]
  },
  {
   "cell_type": "code",
   "execution_count": 154,
   "metadata": {},
   "outputs": [
    {
     "data": {
      "text/plain": [
       "18"
      ]
     },
     "execution_count": 154,
     "metadata": {},
     "output_type": "execute_result"
    }
   ],
   "source": [
    "len(test_list)"
   ]
  },
  {
   "cell_type": "code",
   "execution_count": 124,
   "metadata": {},
   "outputs": [
    {
     "data": {
      "text/plain": [
       "5"
      ]
     },
     "execution_count": 124,
     "metadata": {},
     "output_type": "execute_result"
    }
   ],
   "source": [
    "len(test_list[:5])"
   ]
  },
  {
   "cell_type": "code",
   "execution_count": 125,
   "metadata": {},
   "outputs": [
    {
     "data": {
      "text/plain": [
       "12"
      ]
     },
     "execution_count": 125,
     "metadata": {},
     "output_type": "execute_result"
    }
   ],
   "source": [
    "len(test_list[6:])"
   ]
  },
  {
   "cell_type": "code",
   "execution_count": 126,
   "metadata": {},
   "outputs": [],
   "source": [
    "my_list = test_list[6:]"
   ]
  },
  {
   "cell_type": "code",
   "execution_count": 161,
   "metadata": {},
   "outputs": [
    {
     "data": {
      "text/plain": [
       "12"
      ]
     },
     "execution_count": 161,
     "metadata": {},
     "output_type": "execute_result"
    }
   ],
   "source": [
    "len(my_list)"
   ]
  },
  {
   "cell_type": "code",
   "execution_count": 134,
   "metadata": {},
   "outputs": [],
   "source": [
    "a=[1,2,3,4]\n",
    "b = [3,4,5,6]"
   ]
  },
  {
   "cell_type": "code",
   "execution_count": 135,
   "metadata": {},
   "outputs": [
    {
     "data": {
      "text/plain": [
       "[1, 2, 3, 4, 3, 4, 5, 6]"
      ]
     },
     "execution_count": 135,
     "metadata": {},
     "output_type": "execute_result"
    }
   ],
   "source": [
    "a+b"
   ]
  },
  {
   "cell_type": "code",
   "execution_count": 144,
   "metadata": {},
   "outputs": [
    {
     "data": {
      "text/plain": [
       "[3]"
      ]
     },
     "execution_count": 144,
     "metadata": {},
     "output_type": "execute_result"
    }
   ],
   "source": [
    "[a[2]]"
   ]
  },
  {
   "cell_type": "code",
   "execution_count": null,
   "metadata": {},
   "outputs": [],
   "source": []
  }
 ],
 "metadata": {
  "kernelspec": {
   "display_name": "displayKernelName",
   "language": "python",
   "name": "tf"
  },
  "language_info": {
   "codemirror_mode": {
    "name": "ipython",
    "version": 3
   },
   "file_extension": ".py",
   "mimetype": "text/x-python",
   "name": "python",
   "nbconvert_exporter": "python",
   "pygments_lexer": "ipython3",
   "version": "3.5.6"
  }
 },
 "nbformat": 4,
 "nbformat_minor": 2
}
