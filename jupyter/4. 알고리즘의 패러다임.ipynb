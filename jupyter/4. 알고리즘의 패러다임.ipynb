{
 "cells": [
  {
   "cell_type": "markdown",
   "metadata": {},
   "source": [
    "## Brute-Force Attack\n",
    "- 무차별 대입 공격\n",
    "- 가능한 모든 경우의 수를 다 대입해보는 것.\n",
    "- 가장 순진한 알고리즘 접근법"
   ]
  },
  {
   "cell_type": "code",
   "execution_count": 9,
   "metadata": {},
   "outputs": [],
   "source": [
    "def max_product(left_cards, right_cards):\n",
    "    max_value = 0\n",
    "    for i in left_cards:\n",
    "        for j in right_cards:\n",
    "            if i*j > max_value:\n",
    "              #  max = i*j\n",
    "                max_value = max(max_value, i*j)\n",
    "    return max_value"
   ]
  },
  {
   "cell_type": "code",
   "execution_count": 10,
   "metadata": {},
   "outputs": [
    {
     "name": "stdout",
     "output_type": "stream",
     "text": [
      "24\n",
      "32\n",
      "28\n"
     ]
    }
   ],
   "source": [
    "print(max_product([1, 6, 5], [4, 2, 3]))\n",
    "print(max_product([1, -9, 3, 4], [2, 8, 3, 1]))\n",
    "print(max_product([-1, -7, 3], [-4, 3, 6]))"
   ]
  },
  {
   "cell_type": "code",
   "execution_count": null,
   "metadata": {},
   "outputs": [],
   "source": [
    "# 가까운 매장 찾기 실습"
   ]
  },
  {
   "cell_type": "code",
   "execution_count": 12,
   "metadata": {},
   "outputs": [],
   "source": [
    "from math import sqrt\n",
    "def distance(store1, store2):\n",
    "    return sqrt((store1[0] - store2[0])**2 + (store1[1] - store2[1])**2)"
   ]
  },
  {
   "cell_type": "code",
   "execution_count": 65,
   "metadata": {},
   "outputs": [],
   "source": [
    "from itertools import combinations\n",
    "def closest_pair(coordinates):\n",
    "    \n",
    "    min_dis = 1000\n",
    "    all_combination = list(combinations(coordinates, 2))\n",
    "    for i,j in all_combination:\n",
    "        \n",
    "        if distance(i,j) < min_dis:\n",
    "            min_dis = distance(i,j)\n",
    "            out_list = [i,j]\n",
    "            \n",
    "    return out_list"
   ]
  },
  {
   "cell_type": "code",
   "execution_count": null,
   "metadata": {},
   "outputs": [],
   "source": [
    "def closest_pair(coordinates):\n",
    "    closest = 10000\n",
    "    for i in range(len(coordinates)):\n",
    "        for j in range(i + 1, len(coordinates)):\n",
    "            if closest > distance(coordinates[i], coordinates[j]):\n",
    "                closest = distance(coordinates[i], coordinates[j])\n",
    "                x = coordinates[i]\n",
    "                y = coordinates[j]\n",
    "    return [x, y]"
   ]
  },
  {
   "cell_type": "code",
   "execution_count": 66,
   "metadata": {},
   "outputs": [
    {
     "name": "stdout",
     "output_type": "stream",
     "text": [
      "[(2, 3), (3, 4)]\n"
     ]
    }
   ],
   "source": [
    "test_coordinates = [(2, 3), (12, 30), (40, 50), (5, 1), (12, 10), (3, 4)]\n",
    "print(closest_pair(test_coordinates))"
   ]
  },
  {
   "cell_type": "code",
   "execution_count": 17,
   "metadata": {},
   "outputs": [
    {
     "name": "stdout",
     "output_type": "stream",
     "text": [
      "(2, 3)\n",
      "(12, 30)\n",
      "(40, 50)\n",
      "(5, 1)\n",
      "(12, 10)\n",
      "(3, 4)\n"
     ]
    }
   ],
   "source": [
    "for i in test_coordinates:\n",
    "    print(i)"
   ]
  },
  {
   "cell_type": "code",
   "execution_count": 16,
   "metadata": {},
   "outputs": [
    {
     "name": "stdout",
     "output_type": "stream",
     "text": [
      "(0, (2, 3))\n",
      "(1, (12, 30))\n",
      "(2, (40, 50))\n",
      "(3, (5, 1))\n",
      "(4, (12, 10))\n",
      "(5, (3, 4))\n"
     ]
    }
   ],
   "source": [
    "for i in enumerate(test_coordinates):\n",
    "    print(i)"
   ]
  },
  {
   "cell_type": "code",
   "execution_count": 44,
   "metadata": {},
   "outputs": [
    {
     "name": "stdout",
     "output_type": "stream",
     "text": [
      "28.792360097775937\n",
      "60.440052945046304\n",
      "3.605551275463989\n",
      "12.206555615733702\n",
      "1.4142135623730951\n",
      "34.40930106817051\n",
      "29.832867780352597\n",
      "20.0\n",
      "27.51363298439521\n",
      "60.21627686929839\n",
      "48.82622246293481\n",
      "59.033888572581766\n",
      "11.40175425099138\n",
      "3.605551275463989\n",
      "10.816653826391969\n"
     ]
    }
   ],
   "source": [
    "a = list(combinations(test_coordinates, 2))\n",
    "for i,j in a:\n",
    "    print(max(distance(i,j),1))"
   ]
  },
  {
   "cell_type": "code",
   "execution_count": 45,
   "metadata": {},
   "outputs": [
    {
     "name": "stdout",
     "output_type": "stream",
     "text": [
      "[((2, 3), (12, 30)), ((2, 3), (40, 50)), ((2, 3), (5, 1)), ((2, 3), (12, 10)), ((2, 3), (3, 4)), ((12, 30), (40, 50)), ((12, 30), (5, 1)), ((12, 30), (12, 10)), ((12, 30), (3, 4)), ((40, 50), (5, 1)), ((40, 50), (12, 10)), ((40, 50), (3, 4)), ((5, 1), (12, 10)), ((5, 1), (3, 4)), ((12, 10), (3, 4))]\n"
     ]
    }
   ],
   "source": [
    "print(a)"
   ]
  },
  {
   "cell_type": "code",
   "execution_count": 56,
   "metadata": {},
   "outputs": [
    {
     "name": "stdout",
     "output_type": "stream",
     "text": [
      "[(2, 3), (12, 30)]\n",
      "[(2, 3), (40, 50)]\n",
      "[(2, 3), (5, 1)]\n",
      "[(2, 3), (12, 10)]\n",
      "[(2, 3), (3, 4)]\n",
      "[(12, 30), (40, 50)]\n",
      "[(12, 30), (5, 1)]\n",
      "[(12, 30), (12, 10)]\n",
      "[(12, 30), (3, 4)]\n",
      "[(40, 50), (5, 1)]\n",
      "[(40, 50), (12, 10)]\n",
      "[(40, 50), (3, 4)]\n",
      "[(5, 1), (12, 10)]\n",
      "[(5, 1), (3, 4)]\n",
      "[(12, 10), (3, 4)]\n"
     ]
    }
   ],
   "source": [
    "for i,j in a:\n",
    "    print([i,j])"
   ]
  },
  {
   "cell_type": "code",
   "execution_count": null,
   "metadata": {},
   "outputs": [],
   "source": []
  },
  {
   "cell_type": "markdown",
   "metadata": {},
   "source": [
    "### 강남역 폭우 문제"
   ]
  },
  {
   "cell_type": "code",
   "execution_count": 84,
   "metadata": {},
   "outputs": [],
   "source": [
    "# 건물과 건물 사이에 얼마만큼의 빗물이 담기는 지\n",
    "def trapping_rain(buildings):\n",
    "    total = 0\n",
    "    \n",
    "    # list의 각 index를 돌면서 해당 칸에 담기는 빗물의 양을 구한다.\n",
    "    # 0번 index와 마지막 index는 볼 필요가 없다.\n",
    "    \n",
    "    for i in range(1, len(buildings)-1):\n",
    "        # 현재 index를 기준으로 양쪽에 가장 높은 건물의 위치 찾기\n",
    "        max_left = max(buildings[:i])\n",
    "        max_right = max(buildings[i:])\n",
    "        \n",
    "        # 현재 index에 빗물이 담길 수 있는 높이\n",
    "        upper_bound = min(max_left, max_right)\n",
    "        \n",
    "        # 현재 index에 담기는 빗물의 양 계산\n",
    "        # 만약 upper_bound가 현재 index보다 높지 않다면 담기지 않음\n",
    "        total += max(0, upper_bound - buildings[i])\n",
    "    return total"
   ]
  },
  {
   "cell_type": "code",
   "execution_count": 85,
   "metadata": {},
   "outputs": [
    {
     "name": "stdout",
     "output_type": "stream",
     "text": [
      "10\n"
     ]
    }
   ],
   "source": [
    "print(trapping_rain([3, 0, 0, 2, 0, 4]))"
   ]
  },
  {
   "cell_type": "code",
   "execution_count": 79,
   "metadata": {},
   "outputs": [
    {
     "name": "stdout",
     "output_type": "stream",
     "text": [
      "[]\n",
      "[3]\n",
      "[3, 0]\n",
      "[3, 0, 0]\n",
      "[3, 0, 0, 2]\n",
      "[3, 0, 0, 2, 0]\n"
     ]
    }
   ],
   "source": [
    "a = [3, 0, 0, 2, 0, 4]\n",
    "for i in range(len(a)):\n",
    "    print(a[:i])"
   ]
  },
  {
   "cell_type": "code",
   "execution_count": null,
   "metadata": {},
   "outputs": [],
   "source": []
  }
 ],
 "metadata": {
  "kernelspec": {
   "display_name": "Python 3",
   "language": "python",
   "name": "python3"
  },
  "language_info": {
   "codemirror_mode": {
    "name": "ipython",
    "version": 3
   },
   "file_extension": ".py",
   "mimetype": "text/x-python",
   "name": "python",
   "nbconvert_exporter": "python",
   "pygments_lexer": "ipython3",
   "version": "3.6.8"
  }
 },
 "nbformat": 4,
 "nbformat_minor": 2
}
