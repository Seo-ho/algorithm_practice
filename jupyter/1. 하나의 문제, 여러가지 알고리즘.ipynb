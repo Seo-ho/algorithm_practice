{
 "cells": [
  {
   "cell_type": "code",
   "execution_count": 18,
   "metadata": {},
   "outputs": [],
   "source": [
    "# 팔린드롬(palindrome) >> 토마토나 기러기처럼 거꾸로 읽어도 똑같은 단어\n",
    "# 내가 푼거\n",
    "def is_palindrome(word):\n",
    "    b = \"\"\n",
    "    length = len(word)\n",
    "    for i in range(length):\n",
    "        b += word[length - (i+1)]\n",
    "    \n",
    "    return b == word"
   ]
  },
  {
   "cell_type": "code",
   "execution_count": null,
   "metadata": {},
   "outputs": [],
   "source": [
    "def is_palindrome(word):\n",
    "    a = len(word)\n",
    "    mid = True\n",
    "    for i in range(a):\n",
    "        result = word[i] == word[a-1-i]\n",
    "        final_result = mid & result\n",
    "        mid = result\n",
    "    return final_result"
   ]
  },
  {
   "cell_type": "code",
   "execution_count": 20,
   "metadata": {},
   "outputs": [
    {
     "data": {
      "text/plain": [
       "False"
      ]
     },
     "execution_count": 20,
     "metadata": {},
     "output_type": "execute_result"
    }
   ],
   "source": [
    "is_palindrome(\"hello\")"
   ]
  },
  {
   "cell_type": "code",
   "execution_count": 21,
   "metadata": {},
   "outputs": [
    {
     "name": "stdout",
     "output_type": "stream",
     "text": [
      "True\n",
      "False\n",
      "True\n",
      "True\n",
      "False\n"
     ]
    }
   ],
   "source": [
    "print(is_palindrome(\"racecar\"))\n",
    "print(is_palindrome(\"stars\"))\n",
    "print(is_palindrome(\"토마토\"))\n",
    "print(is_palindrome(\"kayak\"))\n",
    "print(is_palindrome(\"hello\"))"
   ]
  },
  {
   "cell_type": "code",
   "execution_count": 11,
   "metadata": {},
   "outputs": [],
   "source": [
    "a = \"기러기\"\n",
    "b = \"\"\n",
    "for i in range(len(a)):\n",
    "    b += a[len(a) - (i+1)]"
   ]
  },
  {
   "cell_type": "code",
   "execution_count": 12,
   "metadata": {},
   "outputs": [
    {
     "data": {
      "text/plain": [
       "'기러기'"
      ]
     },
     "execution_count": 12,
     "metadata": {},
     "output_type": "execute_result"
    }
   ],
   "source": [
    "b"
   ]
  },
  {
   "cell_type": "code",
   "execution_count": 13,
   "metadata": {},
   "outputs": [
    {
     "data": {
      "text/plain": [
       "True"
      ]
     },
     "execution_count": 13,
     "metadata": {},
     "output_type": "execute_result"
    }
   ],
   "source": [
    "a==b"
   ]
  },
  {
   "cell_type": "code",
   "execution_count": null,
   "metadata": {},
   "outputs": [],
   "source": []
  },
  {
   "cell_type": "markdown",
   "metadata": {},
   "source": [
    "### 탐색\n",
    "- 선형 탐색 알고리즘: 순서대로 보는 것.\n",
    "- 이진 탐색 알고리즘: mid를 기준으로 계속 왼쪽을 볼지 오른쪽을 볼지 update"
   ]
  },
  {
   "cell_type": "markdown",
   "metadata": {},
   "source": [
    "### Linear Search"
   ]
  },
  {
   "cell_type": "code",
   "execution_count": 34,
   "metadata": {},
   "outputs": [],
   "source": [
    "# 내가 푼거\n",
    "def linear_search(element, some_list):\n",
    "    for i in range(len(some_list)):\n",
    "        if element == some_list[i]:\n",
    "            return i\n",
    "        \n",
    "    return None"
   ]
  },
  {
   "cell_type": "code",
   "execution_count": null,
   "metadata": {},
   "outputs": [],
   "source": [
    "def linear_search(element, some_list):\n",
    "    k=0\n",
    "    for i in some_list:\n",
    "        if i == element:\n",
    "            return k\n",
    "        k = k+1"
   ]
  },
  {
   "cell_type": "code",
   "execution_count": 35,
   "metadata": {},
   "outputs": [
    {
     "name": "stdout",
     "output_type": "stream",
     "text": [
      "0\n",
      "None\n",
      "2\n",
      "1\n",
      "4\n"
     ]
    }
   ],
   "source": [
    "print(linear_search(2, [2, 3, 5, 7, 11]))\n",
    "print(linear_search(0, [2, 3, 5, 7, 11]))\n",
    "print(linear_search(5, [2, 3, 5, 7, 11]))\n",
    "print(linear_search(3, [2, 3, 5, 7, 11]))\n",
    "print(linear_search(11, [2, 3, 5, 7, 11]))"
   ]
  },
  {
   "cell_type": "code",
   "execution_count": 38,
   "metadata": {},
   "outputs": [
    {
     "name": "stdout",
     "output_type": "stream",
     "text": [
      "0\n",
      "1\n",
      "2\n",
      "!! 3\n"
     ]
    }
   ],
   "source": [
    "a = [1,2,3]\n",
    "for i in range(len(a)):\n",
    "    print(i)\n",
    "print(\"!!\",len(a))"
   ]
  },
  {
   "cell_type": "code",
   "execution_count": 36,
   "metadata": {},
   "outputs": [
    {
     "name": "stdout",
     "output_type": "stream",
     "text": [
      "1\n",
      "2\n",
      "3\n"
     ]
    }
   ],
   "source": [
    "for i in a:\n",
    "    print(i)"
   ]
  },
  {
   "cell_type": "markdown",
   "metadata": {},
   "source": [
    "### Binary Search\n",
    "- 정렬된 리스트를 전제\n",
    "- 리스트가 정렬되어 있지 않으면 이진 탐색 못하기에 선형 탐색 사용해야대"
   ]
  },
  {
   "cell_type": "code",
   "execution_count": 67,
   "metadata": {},
   "outputs": [],
   "source": [
    "# 내가 푼거\n",
    "def binary_search(element, some_list):\n",
    "    start = 0\n",
    "    final = len(some_list) - 1\n",
    "    \n",
    "    \n",
    "    while start <= final:\n",
    "        mid = (start + final) // 2\n",
    "        \n",
    "        if element < some_list[mid]:\n",
    "            final = mid-1\n",
    "\n",
    "        elif element > some_list[mid]:\n",
    "            start = mid+1\n",
    "            \n",
    "        elif element == some_list[mid]:\n",
    "            return mid\n",
    "    \n",
    "    return None"
   ]
  },
  {
   "cell_type": "code",
   "execution_count": null,
   "metadata": {},
   "outputs": [],
   "source": [
    "def binary_search(element, some_list):\n",
    "    start_index = 0\n",
    "    end_index = len(some_list) -1\n",
    "    while start_index <= end_index :\n",
    "        median = (start_index + end_index) // 2\n",
    "        \n",
    "        if some_list[median] == element:\n",
    "            return median\n",
    "        elif some_list[median] < element:\n",
    "            start_index = median + 1\n",
    "        else:\n",
    "            end_index = median - 1"
   ]
  },
  {
   "cell_type": "code",
   "execution_count": 68,
   "metadata": {},
   "outputs": [
    {
     "name": "stdout",
     "output_type": "stream",
     "text": [
      "0\n",
      "2\n",
      "1\n",
      "4\n"
     ]
    }
   ],
   "source": [
    "print(binary_search(2, [2, 3, 5, 7, 11]))\n",
    "#print(binary_search(0, [2, 3, 5, 7, 11]))\n",
    "print(binary_search(5, [2, 3, 5, 7, 11]))\n",
    "print(binary_search(3, [2, 3, 5, 7, 11]))\n",
    "print(binary_search(11, [2, 3, 5, 7, 11]))"
   ]
  },
  {
   "cell_type": "code",
   "execution_count": 72,
   "metadata": {},
   "outputs": [
    {
     "data": {
      "text/plain": [
       "3"
      ]
     },
     "execution_count": 72,
     "metadata": {},
     "output_type": "execute_result"
    }
   ],
   "source": [
    "7//2"
   ]
  },
  {
   "cell_type": "code",
   "execution_count": null,
   "metadata": {},
   "outputs": [],
   "source": []
  },
  {
   "cell_type": "markdown",
   "metadata": {},
   "source": [
    "## 정렬(Sorting)\n",
    "- 리스트의 원소들을 특정 순서로 정리하는 것\n",
    "\n",
    "\n",
    "### 선택 정렬(Selection Sort)\n",
    "- 가장 작은 값 찾아서 0번 index에 넣고 그 다음으로 작은거 찾아서 다음 index에 넣고.."
   ]
  },
  {
   "cell_type": "code",
   "execution_count": 73,
   "metadata": {},
   "outputs": [],
   "source": [
    "def selection_sort(list):\n",
    "    for iteration1 in range(len(list) - 1):\n",
    "        min_index = iteration1\n",
    "        min = list[min_index]\n",
    "        \n",
    "        for iteration2 in range((iteration1 + 1), len(list)):\n",
    "            if list[iteration2] <= min:\n",
    "                min_index = iteration2\n",
    "                min = list[min_index]\n",
    "                \n",
    "        list[iteration1], list[min_index] = list[min_index], list[iteration1]\n",
    "    \n",
    "    return list    "
   ]
  },
  {
   "cell_type": "code",
   "execution_count": 74,
   "metadata": {},
   "outputs": [
    {
     "name": "stdout",
     "output_type": "stream",
     "text": [
      "[10, 11, 17, 17, 17, 20, 22, 26, 31, 44, 49, 54, 77, 77, 88, 93]\n"
     ]
    }
   ],
   "source": [
    "list = [54, 88, 77, 26, 93, 17, 49, 10, 17, 77, 11, 31, 22, 44, 17, 20]\n",
    "print(selection_sort(list))"
   ]
  },
  {
   "cell_type": "markdown",
   "metadata": {},
   "source": [
    "### 삽입 정렬(Insertion Sort)\n",
    "- 새로운 리스트에 넣는 느낌"
   ]
  },
  {
   "cell_type": "code",
   "execution_count": 79,
   "metadata": {},
   "outputs": [],
   "source": [
    "def insertion_sort(list):\n",
    "    for index in range(1, len(list)):\n",
    "        for position in range(index, 0, -1):\n",
    "            if list[position - 1] > list[position]:\n",
    "                list[position], list[position - 1] = list[position - 1], list[position]\n",
    "    return list"
   ]
  },
  {
   "cell_type": "code",
   "execution_count": 81,
   "metadata": {},
   "outputs": [
    {
     "name": "stdout",
     "output_type": "stream",
     "text": [
      "10\n",
      "[10, 17, 17, 26, 49, 54, 77, 77, 88, 93]\n"
     ]
    }
   ],
   "source": [
    "list = [54, 88, 77, 26, 93, 17, 49, 10, 17, 77]\n",
    "print(len(list))\n",
    "print(insertion_sort(list))"
   ]
  },
  {
   "cell_type": "code",
   "execution_count": 78,
   "metadata": {
    "scrolled": true
   },
   "outputs": [
    {
     "name": "stdout",
     "output_type": "stream",
     "text": [
      "1\n",
      "!!! 1\n",
      "2\n",
      "!!! 2\n",
      "2\n",
      "!!! 1\n",
      "3\n",
      "!!! 3\n",
      "3\n",
      "!!! 2\n",
      "3\n",
      "!!! 1\n",
      "4\n",
      "!!! 4\n",
      "4\n",
      "!!! 3\n",
      "4\n",
      "!!! 2\n",
      "4\n",
      "!!! 1\n",
      "5\n",
      "!!! 5\n",
      "5\n",
      "!!! 4\n",
      "5\n",
      "!!! 3\n",
      "5\n",
      "!!! 2\n",
      "5\n",
      "!!! 1\n",
      "6\n",
      "!!! 6\n",
      "6\n",
      "!!! 5\n",
      "6\n",
      "!!! 4\n",
      "6\n",
      "!!! 3\n",
      "6\n",
      "!!! 2\n",
      "6\n",
      "!!! 1\n",
      "7\n",
      "!!! 7\n",
      "7\n",
      "!!! 6\n",
      "7\n",
      "!!! 5\n",
      "7\n",
      "!!! 4\n",
      "7\n",
      "!!! 3\n",
      "7\n",
      "!!! 2\n",
      "7\n",
      "!!! 1\n",
      "8\n",
      "!!! 8\n",
      "8\n",
      "!!! 7\n",
      "8\n",
      "!!! 6\n",
      "8\n",
      "!!! 5\n",
      "8\n",
      "!!! 4\n",
      "8\n",
      "!!! 3\n",
      "8\n",
      "!!! 2\n",
      "8\n",
      "!!! 1\n",
      "9\n",
      "!!! 9\n",
      "9\n",
      "!!! 8\n",
      "9\n",
      "!!! 7\n",
      "9\n",
      "!!! 6\n",
      "9\n",
      "!!! 5\n",
      "9\n",
      "!!! 4\n",
      "9\n",
      "!!! 3\n",
      "9\n",
      "!!! 2\n",
      "9\n",
      "!!! 1\n"
     ]
    }
   ],
   "source": [
    "for index in range(1, len(list)):\n",
    "    for position in range(index, 0, -1): # index부터 1까지 for 문.\n",
    "        print(index)\n",
    "        print(\"!!!\", position)"
   ]
  },
  {
   "cell_type": "code",
   "execution_count": 80,
   "metadata": {},
   "outputs": [
    {
     "name": "stdout",
     "output_type": "stream",
     "text": [
      "[1, 2, 3, 4, 7, 9]\n"
     ]
    }
   ],
   "source": [
    "list = [4, 2, 7, 1, 9, 3]\n",
    "print(insertion_sort(list))"
   ]
  },
  {
   "cell_type": "code",
   "execution_count": 84,
   "metadata": {},
   "outputs": [],
   "source": [
    "def insertion_sorting(list):\n",
    "    for i in range(1, len(list)):\n",
    "        max_index = i\n",
    "        print(\"max_index\", max_index)\n",
    "        for j in range(max_index):\n",
    "            if list[max_index] < list[j]:\n",
    "                temp = list[j]\n",
    "                list[j] = list[max_index]\n",
    "                list[max_index] = temp\n",
    "\n",
    "    return list"
   ]
  },
  {
   "cell_type": "code",
   "execution_count": 85,
   "metadata": {},
   "outputs": [
    {
     "name": "stdout",
     "output_type": "stream",
     "text": [
      "max_index 1\n",
      "max_index 2\n",
      "max_index 3\n",
      "max_index 4\n",
      "max_index 5\n",
      "[1, 2, 3, 4, 7, 9]\n",
      "max_index 1\n",
      "max_index 2\n",
      "max_index 3\n",
      "max_index 4\n",
      "max_index 5\n",
      "[1, 4, 5, 10, 77, 98]\n"
     ]
    }
   ],
   "source": [
    "print(insertion_sorting([4, 2, 7, 1, 9, 3]))\n",
    "print(insertion_sorting([1, 5, 4, 10, 98, 77]))"
   ]
  },
  {
   "cell_type": "code",
   "execution_count": 86,
   "metadata": {},
   "outputs": [
    {
     "data": {
      "text/plain": [
       "6"
      ]
     },
     "execution_count": 86,
     "metadata": {},
     "output_type": "execute_result"
    }
   ],
   "source": [
    "a = [4, 2, 7, 1, 9, 3]\n",
    "len(a)"
   ]
  },
  {
   "cell_type": "code",
   "execution_count": 88,
   "metadata": {},
   "outputs": [
    {
     "name": "stdout",
     "output_type": "stream",
     "text": [
      "1\n",
      "2\n",
      "3\n",
      "4\n",
      "5\n"
     ]
    }
   ],
   "source": [
    "for i in range(1, 6):\n",
    "    print(i)"
   ]
  },
  {
   "cell_type": "code",
   "execution_count": 89,
   "metadata": {},
   "outputs": [
    {
     "name": "stdout",
     "output_type": "stream",
     "text": [
      "0\n"
     ]
    }
   ],
   "source": [
    "for j in range(1):\n",
    "    print(j)"
   ]
  },
  {
   "cell_type": "code",
   "execution_count": 123,
   "metadata": {},
   "outputs": [],
   "source": [
    "a = [1, 5, 2, 6, 3, 7, 4]"
   ]
  },
  {
   "cell_type": "code",
   "execution_count": 100,
   "metadata": {},
   "outputs": [],
   "source": [
    "a.sort()"
   ]
  },
  {
   "cell_type": "code",
   "execution_count": 101,
   "metadata": {},
   "outputs": [
    {
     "data": {
      "text/plain": [
       "[1, 2, 3, 4, 7, 9]"
      ]
     },
     "execution_count": 101,
     "metadata": {},
     "output_type": "execute_result"
    }
   ],
   "source": [
    "a"
   ]
  },
  {
   "cell_type": "code",
   "execution_count": 124,
   "metadata": {},
   "outputs": [],
   "source": [
    "b = [[2, 5, 3], [4, 4, 1], [1, 7, 3]]"
   ]
  },
  {
   "cell_type": "code",
   "execution_count": 134,
   "metadata": {},
   "outputs": [
    {
     "name": "stdout",
     "output_type": "stream",
     "text": [
      "[2, 5, 3]\n",
      "1 5 2\n",
      "[5, 2, 6, 3]\n",
      "!! [5]\n",
      "[4, 4, 1]\n",
      "3 4 0\n",
      "[6]\n",
      "!! [5, 6]\n",
      "[1, 7, 3]\n",
      "0 7 2\n",
      "[1, 5, 2, 6, 3, 7, 4]\n",
      "!! [5, 6, 3]\n",
      "[5, 6, 3]\n"
     ]
    }
   ],
   "source": [
    "a = [1, 5, 2, 6, 3, 7, 4]\n",
    "answer = []\n",
    "for i in range(len(b)):\n",
    "    print(b[i])\n",
    "    #print(len(b[i]))\n",
    "    start_index = b[i][0]-1\n",
    "    end_index = b[i][1]\n",
    "    out_index = b[i][2]-1\n",
    "    print(start_index, end_index, out_index)\n",
    "    c = a[start_index:end_index]\n",
    "    print(c)\n",
    "    c.sort()\n",
    "    #print(\"!!\", out_index)\n",
    "    answer.append(c[out_index])\n",
    "    print(\"!!\", answer)\n",
    "print(answer)"
   ]
  },
  {
   "cell_type": "code",
   "execution_count": 128,
   "metadata": {},
   "outputs": [
    {
     "name": "stdout",
     "output_type": "stream",
     "text": [
      "[5, 2, 6, 3]\n"
     ]
    }
   ],
   "source": [
    "a = [1, 5, 2, 6, 3, 7, 4]\n",
    "dd = a[2-1:5]\n",
    "print(dd)"
   ]
  },
  {
   "cell_type": "code",
   "execution_count": 120,
   "metadata": {},
   "outputs": [],
   "source": [
    "dd.sort()"
   ]
  },
  {
   "cell_type": "code",
   "execution_count": 121,
   "metadata": {},
   "outputs": [
    {
     "data": {
      "text/plain": [
       "[2, 3, 5, 6]"
      ]
     },
     "execution_count": 121,
     "metadata": {},
     "output_type": "execute_result"
    }
   ],
   "source": [
    "dd"
   ]
  },
  {
   "cell_type": "code",
   "execution_count": 136,
   "metadata": {},
   "outputs": [],
   "source": [
    "def solution(array, commands):\n",
    "    answer = []\n",
    "    \n",
    "    for i in range(len(commands)):\n",
    "        start_index = commands[i][0]-1\n",
    "        end_index = commands[i][1]-1\n",
    "        out_index = commands[i][2]-1\n",
    "        \n",
    "        c = array[start_index:end_index+1]\n",
    "        c.sort()\n",
    "        answer.append(c[out_index])\n",
    "    return answer"
   ]
  },
  {
   "cell_type": "code",
   "execution_count": 137,
   "metadata": {},
   "outputs": [
    {
     "data": {
      "text/plain": [
       "[5, 6, 3]"
      ]
     },
     "execution_count": 137,
     "metadata": {},
     "output_type": "execute_result"
    }
   ],
   "source": [
    "solution(a,b)"
   ]
  },
  {
   "cell_type": "code",
   "execution_count": 1,
   "metadata": {},
   "outputs": [],
   "source": [
    "def solution(array, commands):\n",
    "    \n",
    "    return list(map(lambda x:sorted(array[x[0]-1:x[1]])[x[2]-1], commands))"
   ]
  },
  {
   "cell_type": "code",
   "execution_count": 2,
   "metadata": {},
   "outputs": [
    {
     "data": {
      "text/plain": [
       "[5, 6, 3]"
      ]
     },
     "execution_count": 2,
     "metadata": {},
     "output_type": "execute_result"
    }
   ],
   "source": [
    "solution([1, 5, 2, 6, 3, 7, 4], [[2, 5, 3], [4, 4, 1], [1, 7, 3]])"
   ]
  },
  {
   "cell_type": "code",
   "execution_count": null,
   "metadata": {},
   "outputs": [],
   "source": []
  }
 ],
 "metadata": {
  "kernelspec": {
   "display_name": "Python 3",
   "language": "python",
   "name": "python3"
  },
  "language_info": {
   "codemirror_mode": {
    "name": "ipython",
    "version": 3
   },
   "file_extension": ".py",
   "mimetype": "text/x-python",
   "name": "python",
   "nbconvert_exporter": "python",
   "pygments_lexer": "ipython3",
   "version": "3.6.8"
  }
 },
 "nbformat": 4,
 "nbformat_minor": 2
}
